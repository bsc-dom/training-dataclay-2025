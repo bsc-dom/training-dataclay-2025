{
 "cells": [
  {
   "cell_type": "markdown",
   "metadata": {},
   "source": [
    "# Get the most common word\n",
    "\n",
    "Now is your turn to do an application, with no _training wheels_.\n",
    "\n",
    "The exercise is:\n",
    "\n",
    "> Print the word with most occurrences, alongside its count.\n",
    "\n",
    "You will, roughly, need to follow the following steps:\n",
    "\n",
    " - Initialize the `storage` library.\n",
    " - Retrieve the persistent `Result` instance.\n",
    " - Iterate all the results.\n",
    " - Check which word has most occurrences.\n",
    " - Print the overall most common word alongside its number of occurrences."
   ]
  },
  {
   "cell_type": "code",
   "execution_count": null,
   "metadata": {},
   "outputs": [],
   "source": [
    "..."
   ]
  },
  {
   "cell_type": "code",
   "execution_count": null,
   "metadata": {},
   "outputs": [],
   "source": []
  }
 ],
 "metadata": {
  "language_info": {
   "name": "python",
   "pygments_lexer": "ipython3"
  }
 },
 "nbformat": 4,
 "nbformat_minor": 4
}
