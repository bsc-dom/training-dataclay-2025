{
 "cells": [
  {
   "cell_type": "markdown",
   "metadata": {},
   "source": [
    "# Using the `split` method\n",
    "\n",
    "As explained before, `StorageCollection` subtypes have a `split` method that can be used.\n",
    "\n",
    "It is specially useful for distributed storage and parallel computation (you will see during this afternoon!) but we will start to showcase it through a simple sequential exercise with the WordCount application."
   ]
  },
  {
   "cell_type": "code",
   "execution_count": null,
   "metadata": {},
   "outputs": [],
   "source": [
    "import storage.api\n",
    "storage.api.init()\n",
    "\n",
    "from model.words import Words\n",
    "from model.result import Result"
   ]
  },
  {
   "cell_type": "markdown",
   "metadata": {},
   "source": [
    "## Prepare the helper functions\n",
    "\n",
    "Prepare the following functions. You may --you are encouraged to-- reuse existing code from previous exercises:"
   ]
  },
  {
   "cell_type": "code",
   "execution_count": null,
   "metadata": {},
   "outputs": [],
   "source": [
    "def wordcount(block):\n",
    "    \"\"\"Count the occurrences of unique words.\n",
    "    \n",
    "    :param block: A StorageDict block, coming from a text.\n",
    "    :return: A dictionary of <word, occurrences>.\n",
    "    \"\"\"\n",
    "    ...\n",
    "\n",
    "\n",
    "def merge_results(partial, result):\n",
    "    \"\"\"Given a partial dictionary of results, merge it into the final result.\n",
    "    \n",
    "    :param partial: A partial wordcount.\n",
    "    :param result: The final Result instance (modified in-place).\n",
    "    \"\"\"\n",
    "    ...\n",
    "    "
   ]
  },
  {
   "cell_type": "markdown",
   "metadata": {},
   "source": [
    "## Prepare the main\n",
    "\n",
    "You will need to use the `split` method and also use the previous two functions that you have prepared in the previous cell.\n"
   ]
  },
  {
   "cell_type": "code",
   "execution_count": null,
   "metadata": {},
   "outputs": [],
   "source": [
    "# Retrieve the persistent Words object\n",
    "words = ...\n",
    "# Prepare the output\n",
    "result = ...\n",
    "\n",
    "for block in words.split():\n",
    "    ..."
   ]
  },
  {
   "cell_type": "code",
   "execution_count": null,
   "metadata": {},
   "outputs": [],
   "source": []
  }
 ],
 "metadata": {
  "language_info": {
   "name": "python",
   "pygments_lexer": "ipython3"
  }
 },
 "nbformat": 4,
 "nbformat_minor": 4
}
