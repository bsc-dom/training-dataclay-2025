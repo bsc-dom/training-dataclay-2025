{
 "cells": [
  {
   "cell_type": "markdown",
   "metadata": {},
   "source": [
    "# Using active methods\n",
    "\n",
    "Given that reading, sanitizing and counting words are very data-intensive methods, they are a perfect candidate to use active methods.\n",
    "\n",
    "In this exercise, we encourage you to move part of the code from previous notebooks into active methods in the `words_active.Words` class.\n",
    "\n",
    "The class skeleton is provided, but you need to include the code in them."
   ]
  },
  {
   "cell_type": "code",
   "execution_count": null,
   "metadata": {},
   "outputs": [],
   "source": [
    "from dataclay import Client\n",
    "from wordcount_model.words_active import Words\n",
    "\n",
    "client = Client(proxy_host=\"127.0.0.1\")\n",
    "client.start()"
   ]
  },
  {
   "cell_type": "markdown",
   "metadata": {},
   "source": [
    "- Read the text into a persistent object"
   ]
  },
  {
   "cell_type": "code",
   "execution_count": null,
   "metadata": {},
   "outputs": [],
   "source": [
    "with open(\"loremipsum.txt\") as f:\n",
    "    lipsum_text = f.read()\n",
    "\n",
    "words = Words()\n",
    "words.make_persistent(\"WordCountActiveWords\")\n",
    "\n",
    "words.load_text(lipsum_text)"
   ]
  },
  {
   "cell_type": "markdown",
   "metadata": {},
   "source": [
    "- Perform the split and sanitization\n"
   ]
  },
  {
   "cell_type": "code",
   "execution_count": null,
   "metadata": {},
   "outputs": [],
   "source": [
    "words.split_and_sanitize()"
   ]
  },
  {
   "cell_type": "markdown",
   "metadata": {},
   "source": [
    "- Count the words with an active method, without having to move the word structures"
   ]
  },
  {
   "cell_type": "code",
   "execution_count": null,
   "metadata": {},
   "outputs": [],
   "source": [
    "result = words.count_words()\n",
    "\n",
    "print(\"A total of #%d unique words\" % len(result))"
   ]
  }
 ],
 "metadata": {
  "kernelspec": {
   "display_name": "Python 3 (ipykernel)",
   "language": "python",
   "name": "python3"
  },
  "language_info": {
   "codemirror_mode": {
    "name": "ipython",
    "version": 3
   },
   "file_extension": ".py",
   "mimetype": "text/x-python",
   "name": "python",
   "nbconvert_exporter": "python",
   "pygments_lexer": "ipython3",
   "version": "3.10.12"
  }
 },
 "nbformat": 4,
 "nbformat_minor": 4
}
