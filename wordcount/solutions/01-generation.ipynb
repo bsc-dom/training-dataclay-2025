{
 "cells": [
  {
   "cell_type": "markdown",
   "metadata": {},
   "source": [
    "# WordCount\n",
    "\n",
    "## Check the data model (classes)\n",
    "\n",
    "You can check the classes definitions by going into the [wordcount_model/](wordcount_model/) folder.\n",
    "\n",
    "You will find two different files:\n",
    "\n",
    " - `words.py` which contains the `Words` class, intended to store the collection of words.\n",
    " - `result.py` which contains the `Result` class, intended to store the result of the Word Count.\n",
    " - `words_active.py` which will be used in the active mechanism exercise (4th exercise).\n",
    "\n",
    "## Text Generation\n",
    "\n",
    "Initialize the Storage Library, and read some Lorem Ipsum text from a file."
   ]
  },
  {
   "cell_type": "code",
   "execution_count": 2,
   "metadata": {},
   "outputs": [
    {
     "name": "stderr",
     "output_type": "stream",
     "text": [
      "/home/alex/BSC/training-dataclay-2025/venv/lib/python3.10/site-packages/pydantic_settings/sources.py:659: UserWarning: directory \"/run/secrets\" does not exist\n",
      "  warnings.warn(f'directory \"{path}\" does not exist')\n",
      "INFO:dataclay.client.api:Starting client runtime\n",
      "INFO:dataclay.client.api:Creating event loop in new thread\n",
      "INFO:dataclay.client.api:Starting client runtime coroutine in event loop\n",
      "INFO:dataclay.client.api:Client runtime started\n"
     ]
    },
    {
     "name": "stdout",
     "output_type": "stream",
     "text": [
      "Starting event loop in new thread\n"
     ]
    },
    {
     "name": "stderr",
     "output_type": "stream",
     "text": [
      "INFO:dataclay.backend.client:SSL not configured\n",
      "INFO:dataclay.backend.client:SSL not configured\n"
     ]
    }
   ],
   "source": [
    "from dataclay import Client\n",
    "\n",
    "client = Client(proxy_host=\"127.0.0.1\")\n",
    "client.start()"
   ]
  },
  {
   "cell_type": "code",
   "execution_count": 3,
   "metadata": {},
   "outputs": [
    {
     "name": "stdout",
     "output_type": "stream",
     "text": [
      "Size of the \"Lorem Ipsum\" text: 56086 characters\n"
     ]
    }
   ],
   "source": [
    "# Read the data from the loremipsum.txt\n",
    "with open(\"loremipsum.txt\") as f:\n",
    "    lipsum_text = f.read()\n",
    "    lipsum_text\n",
    "\n",
    "print (\"Size of the \\\"Lorem Ipsum\\\" text: %d characters\" % len(lipsum_text))"
   ]
  },
  {
   "cell_type": "code",
   "execution_count": 4,
   "metadata": {},
   "outputs": [
    {
     "name": "stdout",
     "output_type": "stream",
     "text": [
      "Words is persistent and is empty (#0 elements)\n"
     ]
    }
   ],
   "source": [
    "# Split the data into words and store it in the data structure:\n",
    "from wordcount_model.words import Words\n",
    "\n",
    "w = Words()\n",
    "\n",
    "# Make the data structure persistent (with the alias \"WordCountWords\")\n",
    "w.make_persistent(\"WordCountWords\")\n",
    "\n",
    "print(\"Words is persistent and is empty (#%d elements)\" % len(w))"
   ]
  },
  {
   "cell_type": "code",
   "execution_count": 5,
   "metadata": {},
   "outputs": [
    {
     "name": "stdout",
     "output_type": "stream",
     "text": [
      "Number of iterations done: 8297\n",
      "`Words` object has been populated, number of elements: 8297\n"
     ]
    }
   ],
   "source": [
    "for i, item in enumerate(lipsum_text.split()):\n",
    "    # Remove punctuation signs and make the word lowercase\n",
    "    sanitized = item.strip('.,').lower()\n",
    "    w[i] = sanitized\n",
    "\n",
    "print(\"Number of iterations done: %d\" % (i + 1))\n",
    "print(\"`Words` object has been populated, number of elements: %d\" % len(w))"
   ]
  },
  {
   "cell_type": "markdown",
   "metadata": {},
   "source": [
    "Check that the object has been persisted and the number of words is the expected one:"
   ]
  },
  {
   "cell_type": "code",
   "execution_count": 6,
   "metadata": {},
   "outputs": [
    {
     "name": "stdout",
     "output_type": "stream",
     "text": [
      "Number of words persisted: 8297\n"
     ]
    }
   ],
   "source": [
    "w_bis = Words.get_by_alias(\"WordCountWords\")\n",
    "print(\"Number of words persisted:\", len(w_bis))"
   ]
  }
 ],
 "metadata": {
  "kernelspec": {
   "display_name": "Python 3 (ipykernel)",
   "language": "python",
   "name": "python3"
  },
  "language_info": {
   "codemirror_mode": {
    "name": "ipython",
    "version": 3
   },
   "file_extension": ".py",
   "mimetype": "text/x-python",
   "name": "python",
   "nbconvert_exporter": "python",
   "pygments_lexer": "ipython3",
   "version": "3.10.12"
  }
 },
 "nbformat": 4,
 "nbformat_minor": 4
}
