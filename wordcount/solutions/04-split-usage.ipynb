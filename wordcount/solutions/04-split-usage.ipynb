{
 "cells": [
  {
   "cell_type": "markdown",
   "metadata": {},
   "source": [
    "# Using the `split` method\n",
    "\n",
    "As explained before, `StorageCollection` subtypes have a `split` method that can be used.\n",
    "\n",
    "It is specially useful for distributed storage and parallel computation (you will see during this afternoon!) but we will start to showcase it through a simple sequential exercise with the WordCount application."
   ]
  },
  {
   "cell_type": "code",
   "execution_count": 1,
   "metadata": {},
   "outputs": [
    {
     "name": "stdout",
     "output_type": "stream",
     "text": [
      "--- Using global.properties at /gpfs/home/nct00/nct00004/dataclay-patc21/wordcount/cfgfiles/global.properties\n",
      "No global.properties file found. Using default values\n",
      "--- Using global.properties at /gpfs/home/nct00/nct00004/.dataClay/13911894/client/cfgfiles/global.properties\n",
      "Found global.properties variable EE_PERSISTENT_INFO_PATH=/home/nct00/nct00004/.dataClay/13911894/client/storage/ and type <class 'str'>\n",
      "Found global.properties variable STATE_FILE_PATH=/home/nct00/nct00004/.dataClay/13911894/client/storage/state.txt and type <class 'str'>\n"
     ]
    }
   ],
   "source": [
    "import storage.api\n",
    "storage.api.init(\".\")\n",
    "\n",
    "from model.words import Words\n",
    "from model.result import Result"
   ]
  },
  {
   "cell_type": "markdown",
   "metadata": {},
   "source": [
    "## Prepare the helper functions\n",
    "\n",
    "Prepare the following functions. You may --you are encouraged to-- reuse existing code from previous exercises:"
   ]
  },
  {
   "cell_type": "code",
   "execution_count": 2,
   "metadata": {},
   "outputs": [],
   "source": [
    "def wordcount(block):\n",
    "    \"\"\"Count the occurrences of unique words.\n",
    "    \n",
    "    :param block: A StorageDict block, coming from a text.\n",
    "    :return: A dictionary of <word, occurrences>.\n",
    "    \"\"\"\n",
    "    ...\n",
    "    \n",
    "    # ****************************\n",
    "    # Solution\n",
    "    # ****************************\n",
    "    partial_result = dict()\n",
    "    for word in block.values():\n",
    "        if word in partial_result:\n",
    "            partial_result[word] += 1\n",
    "        else:\n",
    "            partial_result[word] = 1\n",
    "    return partial_result\n",
    "    # ****************************\n",
    "\n",
    "\n",
    "def merge_results(partial, result):\n",
    "    \"\"\"Given a partial dictionary of results, merge it into the final result.\n",
    "    \n",
    "    :param partial: A partial wordcount.\n",
    "    :param result: The final Result instance (modified in-place).\n",
    "    \"\"\"\n",
    "    ...\n",
    "    \n",
    "    # ****************************\n",
    "    # Solution\n",
    "    # ****************************\n",
    "    for word, instances in partial.items():\n",
    "        if word in result:\n",
    "            result[word] += instances\n",
    "        else:\n",
    "            result[word] = instances\n",
    "    # ****************************\n"
   ]
  },
  {
   "cell_type": "markdown",
   "metadata": {},
   "source": [
    "## Prepare the main\n",
    "\n",
    "You will need to use the `split` method and also use the previous two functions that you have prepared in the previous cell.\n"
   ]
  },
  {
   "cell_type": "code",
   "execution_count": 3,
   "metadata": {},
   "outputs": [
    {
     "ename": "AttributeError",
     "evalue": "'ellipsis' object has no attribute 'split'",
     "output_type": "error",
     "traceback": [
      "\u001b[0;31m---------------------------------------------------------------------------\u001b[0m",
      "\u001b[0;31mAttributeError\u001b[0m                            Traceback (most recent call last)",
      "\u001b[0;32m<ipython-input-3-1e47bc51ba64>\u001b[0m in \u001b[0;36m<module>\u001b[0;34m()\u001b[0m\n\u001b[1;32m      4\u001b[0m \u001b[0mresult\u001b[0m \u001b[0;34m=\u001b[0m \u001b[0;34m...\u001b[0m\u001b[0;34m\u001b[0m\u001b[0m\n\u001b[1;32m      5\u001b[0m \u001b[0;34m\u001b[0m\u001b[0m\n\u001b[0;32m----> 6\u001b[0;31m \u001b[0;32mfor\u001b[0m \u001b[0mblock\u001b[0m \u001b[0;32min\u001b[0m \u001b[0mwords\u001b[0m\u001b[0;34m.\u001b[0m\u001b[0msplit\u001b[0m\u001b[0;34m(\u001b[0m\u001b[0;34m)\u001b[0m\u001b[0;34m:\u001b[0m\u001b[0;34m\u001b[0m\u001b[0m\n\u001b[0m\u001b[1;32m      7\u001b[0m     \u001b[0;34m...\u001b[0m\u001b[0;34m\u001b[0m\u001b[0m\n",
      "\u001b[0;31mAttributeError\u001b[0m: 'ellipsis' object has no attribute 'split'"
     ]
    }
   ],
   "source": [
    "# Retrieve the persistent Words object\n",
    "words = ...\n",
    "# Prepare the output\n",
    "result = ...\n",
    "\n",
    "for block in words.split():\n",
    "    ..."
   ]
  },
  {
   "cell_type": "code",
   "execution_count": 4,
   "metadata": {},
   "outputs": [
    {
     "name": "stdout",
     "output_type": "stream",
     "text": [
      "Number of unique words: 186\n"
     ]
    }
   ],
   "source": [
    "\n",
    "# ****************************\n",
    "# Solution\n",
    "# ****************************\n",
    "\n",
    "words = Words.get_by_alias(\"WordCountWords\")\n",
    "result = Result()\n",
    "\n",
    "for block in words.split():\n",
    "    partial = wordcount(block)\n",
    "    merge_results(partial, result)\n",
    "    \n",
    "print(\"Number of unique words:\", len(result))\n",
    "\n",
    "# ****************************\n"
   ]
  },
  {
   "cell_type": "code",
   "execution_count": null,
   "metadata": {},
   "outputs": [],
   "source": []
  }
 ],
 "metadata": {
  "kernelspec": {
   "display_name": "Python 3",
   "language": "python",
   "name": "python3"
  },
  "language_info": {
   "codemirror_mode": {
    "name": "ipython",
    "version": 3
   },
   "file_extension": ".py",
   "mimetype": "text/x-python",
   "name": "python",
   "nbconvert_exporter": "python",
   "pygments_lexer": "ipython3",
   "version": "3.6.1"
  }
 },
 "nbformat": 4,
 "nbformat_minor": 4
}
