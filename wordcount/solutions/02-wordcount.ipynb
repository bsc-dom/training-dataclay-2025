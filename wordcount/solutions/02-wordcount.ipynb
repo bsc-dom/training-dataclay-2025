{
 "cells": [
  {
   "cell_type": "markdown",
   "metadata": {},
   "source": [
    "# WordCount application\n",
    "\n",
    "Let's do a WordCount!\n",
    "\n",
    "First of all, let's initialize the Storage Library and import the models:"
   ]
  },
  {
   "cell_type": "code",
   "execution_count": 3,
   "metadata": {},
   "outputs": [
    {
     "name": "stderr",
     "output_type": "stream",
     "text": [
      "INFO:dataclay.storage.api:Initialization of storage.api\n",
      "INFO:dataclay.storage.api:Initialization of worker through storage.api\n",
      "WARNING:dataclay.storage.api:Finishing initialization (post-fork)\n",
      "INFO:dataclay.client.api:Starting client runtime\n",
      "INFO:dataclay.client.api:Creating event loop in new thread\n",
      "INFO:dataclay.client.api:Starting client runtime coroutine in event loop\n",
      "INFO:dataclay.client.api:Client runtime started\n"
     ]
    },
    {
     "name": "stdout",
     "output_type": "stream",
     "text": [
      "Starting event loop in new thread\n"
     ]
    },
    {
     "name": "stderr",
     "output_type": "stream",
     "text": [
      "INFO:dataclay.backend.client:SSL not configured\n"
     ]
    },
    {
     "ename": "ModuleNotFoundError",
     "evalue": "No module named 'wordcountModel'",
     "output_type": "error",
     "traceback": [
      "\u001b[0;31m---------------------------------------------------------------------------\u001b[0m",
      "\u001b[0;31mModuleNotFoundError\u001b[0m                       Traceback (most recent call last)",
      "Cell \u001b[0;32mIn[3], line 4\u001b[0m\n\u001b[1;32m      1\u001b[0m \u001b[38;5;28;01mimport\u001b[39;00m\u001b[38;5;250m \u001b[39m\u001b[38;5;21;01mstorage\u001b[39;00m\u001b[38;5;21;01m.\u001b[39;00m\u001b[38;5;21;01mapi\u001b[39;00m\n\u001b[1;32m      2\u001b[0m storage\u001b[38;5;241m.\u001b[39mapi\u001b[38;5;241m.\u001b[39minit(\u001b[38;5;124m\"\u001b[39m\u001b[38;5;124m.\u001b[39m\u001b[38;5;124m\"\u001b[39m)\n\u001b[0;32m----> 4\u001b[0m \u001b[38;5;28;01mfrom\u001b[39;00m\u001b[38;5;250m \u001b[39m\u001b[38;5;21;01mwordcountModel\u001b[39;00m\u001b[38;5;21;01m.\u001b[39;00m\u001b[38;5;21;01mwords\u001b[39;00m\u001b[38;5;250m \u001b[39m\u001b[38;5;28;01mimport\u001b[39;00m Words\n\u001b[1;32m      5\u001b[0m \u001b[38;5;28;01mfrom\u001b[39;00m\u001b[38;5;250m \u001b[39m\u001b[38;5;21;01mwordcountModel\u001b[39;00m\u001b[38;5;21;01m.\u001b[39;00m\u001b[38;5;21;01mresult\u001b[39;00m\u001b[38;5;250m \u001b[39m\u001b[38;5;28;01mimport\u001b[39;00m Result\n",
      "\u001b[0;31mModuleNotFoundError\u001b[0m: No module named 'wordcountModel'"
     ]
    }
   ],
   "source": [
    "import storage.api\n",
    "storage.api.init(\".\")\n",
    "\n",
    "from wordcountModel.words import Words\n",
    "from wordcountModel.result import Result"
   ]
  },
  {
   "cell_type": "markdown",
   "metadata": {},
   "source": [
    "## Getting the word collection from persistence\n",
    "\n",
    "We can retrieve the persistent collection library with the classmethod `get_by_alias`.\n",
    "\n",
    "You must use the same alias used when doing the `make_persistent` call."
   ]
  },
  {
   "cell_type": "code",
   "execution_count": 1,
   "metadata": {},
   "outputs": [
    {
     "ename": "NameError",
     "evalue": "name 'Words' is not defined",
     "output_type": "error",
     "traceback": [
      "\u001b[0;31m---------------------------------------------------------------------------\u001b[0m",
      "\u001b[0;31mNameError\u001b[0m                                 Traceback (most recent call last)",
      "Cell \u001b[0;32mIn[1], line 4\u001b[0m\n\u001b[1;32m      1\u001b[0m \u001b[38;5;66;03m# ****************************\u001b[39;00m\n\u001b[1;32m      2\u001b[0m \u001b[38;5;66;03m# Solution\u001b[39;00m\n\u001b[1;32m      3\u001b[0m \u001b[38;5;66;03m# ****************************\u001b[39;00m\n\u001b[0;32m----> 4\u001b[0m words \u001b[38;5;241m=\u001b[39m \u001b[43mWords\u001b[49m\u001b[38;5;241m.\u001b[39mget_by_alias(\u001b[38;5;124m\"\u001b[39m\u001b[38;5;124mWordCountWords\u001b[39m\u001b[38;5;124m\"\u001b[39m)\n\u001b[1;32m      5\u001b[0m \u001b[38;5;66;03m# ****************************\u001b[39;00m\n\u001b[1;32m      7\u001b[0m \u001b[38;5;28mprint\u001b[39m(\u001b[38;5;124m\"\u001b[39m\u001b[38;5;124mReady to count words on the text. Number of words: #\u001b[39m\u001b[38;5;132;01m%d\u001b[39;00m\u001b[38;5;124m\"\u001b[39m \u001b[38;5;241m%\u001b[39m \u001b[38;5;28mlen\u001b[39m(words))\n",
      "\u001b[0;31mNameError\u001b[0m: name 'Words' is not defined"
     ]
    }
   ],
   "source": [
    "\n",
    "\n",
    "# ****************************\n",
    "# Solution\n",
    "# ****************************\n",
    "words = Words.get_by_alias(\"WordCountWords\")\n",
    "# ****************************\n",
    "\n",
    "print(\"Ready to count words on the text. Number of words: #%d\" % len(words))"
   ]
  },
  {
   "cell_type": "markdown",
   "metadata": {},
   "source": [
    "## Preparing the Result structure\n",
    "\n",
    "We will be using the `Result` data structure, which will contain the number of occurrences (value) for each word (key) in the text."
   ]
  },
  {
   "cell_type": "code",
   "execution_count": 3,
   "metadata": {},
   "outputs": [
    {
     "name": "stdout",
     "output_type": "stream",
     "text": [
      "Empty dictionary ready: StorageDict({}) (#0 elements)\n"
     ]
    }
   ],
   "source": [
    "\n",
    "\n",
    "# ****************************\n",
    "# Solution\n",
    "# ****************************\n",
    "result = Result()\n",
    "result.make_persistent(\"wc_results\")\n",
    "# ****************************\n",
    "\n",
    "\n",
    "print(\"Empty dictionary ready: %s (#%d elements)\" % (result, len(result)))"
   ]
  },
  {
   "cell_type": "markdown",
   "metadata": {},
   "source": [
    "## Performing the Word Count\n",
    "\n",
    "**Exercise:** Count occurrences of unique words in the collection `Words`.\n",
    "\n",
    "*Hint:* Words is a Mapping-like data structure; as such, it is iterable in various forms. Remember that you want to iterate the `values` of that dictionary!\n",
    "\n",
    "*Hint:* Result starts empty, you will be populating it as you go."
   ]
  },
  {
   "cell_type": "code",
   "execution_count": 4,
   "metadata": {},
   "outputs": [
    {
     "name": "stdout",
     "output_type": "stream",
     "text": [
      "Number of unique words: 186\n"
     ]
    }
   ],
   "source": [
    "\n",
    "# ****************************\n",
    "# Solution\n",
    "# ****************************\n",
    "for word in words.values():\n",
    "    if word in result:\n",
    "        result[word] += 1\n",
    "    else:\n",
    "        result[word] = 1\n",
    "# ****************************\n",
    "\n",
    "\n",
    "print(\"Number of unique words:\", len(result))"
   ]
  },
  {
   "cell_type": "markdown",
   "metadata": {},
   "source": [
    "If you haven't made `result` persistent, now it's the time to do it.\n",
    "\n",
    "Remember to give it a memorable alias!"
   ]
  },
  {
   "cell_type": "code",
   "execution_count": 5,
   "metadata": {},
   "outputs": [
    {
     "data": {
      "text/plain": [
       "Ellipsis"
      ]
     },
     "execution_count": 5,
     "metadata": {},
     "output_type": "execute_result"
    }
   ],
   "source": [
    "\n",
    "\n",
    "# ****************************\n",
    "# Solution\n",
    "# ****************************\n",
    "# Already made persistent in the 3rd box\n",
    "# Alias used: \"wc_results\"\n",
    "# ****************************"
   ]
  },
  {
   "cell_type": "code",
   "execution_count": null,
   "metadata": {},
   "outputs": [],
   "source": []
  }
 ],
 "metadata": {
  "kernelspec": {
   "display_name": "Python 3 (ipykernel)",
   "language": "python",
   "name": "python3"
  },
  "language_info": {
   "codemirror_mode": {
    "name": "ipython",
    "version": 3
   },
   "file_extension": ".py",
   "mimetype": "text/x-python",
   "name": "python",
   "nbconvert_exporter": "python",
   "pygments_lexer": "ipython3",
   "version": "3.10.12"
  }
 },
 "nbformat": 4,
 "nbformat_minor": 4
}
