{
 "cells": [
  {
   "cell_type": "markdown",
   "metadata": {},
   "source": [
    "# WordCount application\n",
    "\n",
    "Let's do a WordCount!\n",
    "\n",
    "First of all, let's initialize the Storage Library and import the models:"
   ]
  },
  {
   "cell_type": "code",
   "execution_count": 1,
   "metadata": {},
   "outputs": [
    {
     "name": "stdout",
     "output_type": "stream",
     "text": [
      "--- Using global.properties at /gpfs/home/nct00/nct00004/dataclay-patc21/wordcount/cfgfiles/global.properties\n",
      "No global.properties file found. Using default values\n",
      "--- Using global.properties at /gpfs/home/nct00/nct00004/.dataClay/13911894/client/cfgfiles/global.properties\n",
      "Found global.properties variable EE_PERSISTENT_INFO_PATH=/home/nct00/nct00004/.dataClay/13911894/client/storage/ and type <class 'str'>\n",
      "Found global.properties variable STATE_FILE_PATH=/home/nct00/nct00004/.dataClay/13911894/client/storage/state.txt and type <class 'str'>\n"
     ]
    }
   ],
   "source": [
    "import storage.api\n",
    "storage.api.init()\n",
    "\n",
    "from model.words import Words\n",
    "from model.result import Result"
   ]
  },
  {
   "cell_type": "markdown",
   "metadata": {},
   "source": [
    "## Getting the word collection from persistence\n",
    "\n",
    "We can retrieve the persistent collection library with the classmethod `get_by_alias`.\n",
    "\n",
    "You must use the same alias used when doing the `make_persistent` call."
   ]
  },
  {
   "cell_type": "code",
   "execution_count": 2,
   "metadata": {},
   "outputs": [
    {
     "name": "stdout",
     "output_type": "stream",
     "text": [
      "Ready to count words on the text. Number of words: #8297\n"
     ]
    }
   ],
   "source": [
    "words = ...\n",
    "\n",
    "# ****************************\n",
    "# Solution\n",
    "# ****************************\n",
    "words = Words.get_by_alias(\"WordCountWords\")\n",
    "# ****************************\n",
    "\n",
    "print(\"Ready to count words on the text. Number of words: #%d\" % len(words))"
   ]
  },
  {
   "cell_type": "markdown",
   "metadata": {},
   "source": [
    "## Preparing the Result structure\n",
    "\n",
    "We will be using the `Result` data structure, which will contain the number of occurrences (value) for each word (key) in the text."
   ]
  },
  {
   "cell_type": "code",
   "execution_count": 3,
   "metadata": {},
   "outputs": [
    {
     "name": "stdout",
     "output_type": "stream",
     "text": [
      "Empty dictionary ready: StorageDict({}) (#0 elements)\n"
     ]
    }
   ],
   "source": [
    "result = ...\n",
    "\n",
    "# ****************************\n",
    "# Solution\n",
    "# ****************************\n",
    "result = Result()\n",
    "result.make_persistent(\"wc_results\")\n",
    "# ****************************\n",
    "\n",
    "\n",
    "print(\"Empty dictionary ready: %s (#%d elements)\" % (result, len(result)))"
   ]
  },
  {
   "cell_type": "markdown",
   "metadata": {},
   "source": [
    "## Performing the Word Count\n",
    "\n",
    "**Exercise:** Count occurrences of unique words in the collection `Words`.\n",
    "\n",
    "*Hint:* Words is a Mapping-like data structure; as such, it is iterable in various forms. Remember that you want to iterate the `values` of that dictionary!\n",
    "\n",
    "*Hint:* Result starts empty, you will be populating it as you go."
   ]
  },
  {
   "cell_type": "code",
   "execution_count": 4,
   "metadata": {},
   "outputs": [
    {
     "name": "stdout",
     "output_type": "stream",
     "text": [
      "Number of unique words: 186\n"
     ]
    }
   ],
   "source": [
    "...\n",
    "\n",
    "# ****************************\n",
    "# Solution\n",
    "# ****************************\n",
    "for word in words.values():\n",
    "    if word in result:\n",
    "        result[word] += 1\n",
    "    else:\n",
    "        result[word] = 1\n",
    "# ****************************\n",
    "\n",
    "\n",
    "print(\"Number of unique words:\", len(result))"
   ]
  },
  {
   "cell_type": "markdown",
   "metadata": {},
   "source": [
    "If you haven't made `result` persistent, now it's the time to do it.\n",
    "\n",
    "Remember to give it a memorable alias!"
   ]
  },
  {
   "cell_type": "code",
   "execution_count": 5,
   "metadata": {},
   "outputs": [
    {
     "data": {
      "text/plain": [
       "Ellipsis"
      ]
     },
     "execution_count": 5,
     "metadata": {},
     "output_type": "execute_result"
    }
   ],
   "source": [
    "...\n",
    "\n",
    "# ****************************\n",
    "# Solution\n",
    "# ****************************\n",
    "# Already made persistent in the 3rd box\n",
    "# Alias used: \"wc_results\"\n",
    "# ****************************"
   ]
  },
  {
   "cell_type": "code",
   "execution_count": null,
   "metadata": {},
   "outputs": [],
   "source": []
  }
 ],
 "metadata": {
  "kernelspec": {
   "display_name": "Python 3",
   "language": "python",
   "name": "python3"
  },
  "language_info": {
   "codemirror_mode": {
    "name": "ipython",
    "version": 3
   },
   "file_extension": ".py",
   "mimetype": "text/x-python",
   "name": "python",
   "nbconvert_exporter": "python",
   "pygments_lexer": "ipython3",
   "version": "3.6.1"
  }
 },
 "nbformat": 4,
 "nbformat_minor": 4
}
