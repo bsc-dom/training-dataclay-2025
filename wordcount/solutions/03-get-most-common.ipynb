{
 "cells": [
  {
   "cell_type": "markdown",
   "metadata": {},
   "source": [
    "# Get the most common word\n",
    "\n",
    "Now is your turn to do an application, with no _training wheels_.\n",
    "\n",
    "The exercise is:\n",
    "\n",
    "> Print the word with most occurrences, alongside its count.\n",
    "\n",
    "You will, roughly, need to follow the following steps:\n",
    "\n",
    " - Initialize the `storage` library.\n",
    " - Retrieve the persistent `Result` instance.\n",
    " - Iterate all the results.\n",
    " - Check which word has most occurrences.\n",
    " - Print the overall most common word alongside its number of occurrences."
   ]
  },
  {
   "cell_type": "code",
   "execution_count": 1,
   "metadata": {},
   "outputs": [
    {
     "name": "stdout",
     "output_type": "stream",
     "text": [
      "--- Using global.properties at /gpfs/home/nct00/nct00004/dataclay-patc21/wordcount/cfgfiles/global.properties\n",
      "No global.properties file found. Using default values\n",
      "--- Using global.properties at /gpfs/home/nct00/nct00004/.dataClay/13911894/client/cfgfiles/global.properties\n",
      "Found global.properties variable EE_PERSISTENT_INFO_PATH=/home/nct00/nct00004/.dataClay/13911894/client/storage/ and type <class 'str'>\n",
      "Found global.properties variable STATE_FILE_PATH=/home/nct00/nct00004/.dataClay/13911894/client/storage/state.txt and type <class 'str'>\n",
      "Word with most occurrences: `sed` (appearing 176 times)\n"
     ]
    }
   ],
   "source": [
    "# ****************************\n",
    "# Solution\n",
    "# ****************************\n",
    "import storage.api\n",
    "storage.api.init(\".\")\n",
    "\n",
    "from wordcountModel.result import Result\n",
    "\n",
    "r = Result.get_by_alias(\"wc_results\")\n",
    "\n",
    "max_value = -1\n",
    "max_word = None\n",
    "\n",
    "for word, occ in r.items():\n",
    "    if occ > max_value:\n",
    "        max_value = occ\n",
    "        max_word = word\n",
    "\n",
    "print (\"Word with most occurrences: `%s` (appearing %d times)\" % (max_word, max_value))\n",
    "# ****************************\n",
    "\n"
   ]
  },
  {
   "cell_type": "code",
   "execution_count": null,
   "metadata": {},
   "outputs": [],
   "source": []
  }
 ],
 "metadata": {
  "kernelspec": {
   "display_name": "Python 3",
   "language": "python",
   "name": "python3"
  },
  "language_info": {
   "codemirror_mode": {
    "name": "ipython",
    "version": 3
   },
   "file_extension": ".py",
   "mimetype": "text/x-python",
   "name": "python",
   "nbconvert_exporter": "python",
   "pygments_lexer": "ipython3",
   "version": "3.6.1"
  }
 },
 "nbformat": 4,
 "nbformat_minor": 4
}
