{
 "cells": [
  {
   "cell_type": "markdown",
   "metadata": {},
   "source": [
    "# WordCount\n",
    "\n",
    "## Check the data model (classes)\n",
    "\n",
    "You can check the classes definitions by going into the [model](model/) folder.\n",
    "\n",
    "You will find two different files:\n",
    "\n",
    " - `words.py` which contains the `Words` class, intended to store the collection of words.\n",
    " - `result.py` which contains the `Result` class, intended to store the result of the Word Count.\n",
    "\n",
    "## Text Generation\n",
    "\n",
    "Initialize the Storage Library, and read some Lorem Ipsum text from a file."
   ]
  },
  {
   "cell_type": "code",
   "execution_count": 1,
   "metadata": {},
   "outputs": [
    {
     "name": "stdout",
     "output_type": "stream",
     "text": [
      "--- Using global.properties at /gpfs/home/nct00/nct00004/dataclay-patc21/wordcount/cfgfiles/global.properties\n",
      "No global.properties file found. Using default values\n",
      "--- Using global.properties at /gpfs/home/nct00/nct00004/.dataClay/13911894/client/cfgfiles/global.properties\n",
      "Found global.properties variable EE_PERSISTENT_INFO_PATH=/home/nct00/nct00004/.dataClay/13911894/client/storage/ and type <class 'str'>\n",
      "Found global.properties variable STATE_FILE_PATH=/home/nct00/nct00004/.dataClay/13911894/client/storage/state.txt and type <class 'str'>\n"
     ]
    }
   ],
   "source": [
    "import storage.api\n",
    "\n",
    "storage.api.init()"
   ]
  },
  {
   "cell_type": "code",
   "execution_count": 2,
   "metadata": {},
   "outputs": [
    {
     "name": "stdout",
     "output_type": "stream",
     "text": [
      "Size of the \"Lorem Ipsum\" text: 56086 characters\n"
     ]
    }
   ],
   "source": [
    "# Read the data from the loremipsum.txt\n",
    "with open(\"loremipsum.txt\") as f:\n",
    "    lipsum_text = f.read()\n",
    "    lipsum_text\n",
    "\n",
    "print (\"Size of the \\\"Lorem Ipsum\\\" text: %d characters\" % len(lipsum_text))"
   ]
  },
  {
   "cell_type": "code",
   "execution_count": 3,
   "metadata": {},
   "outputs": [
    {
     "name": "stdout",
     "output_type": "stream",
     "text": [
      "Words is persistent and is empty (#0 elements)\n",
      "Number of iterations done: 8297\n",
      "`Words`' objects has been populated, number of elements: 8297\n"
     ]
    }
   ],
   "source": [
    "# Split the data into words and store it in the data structure:\n",
    "from model.words import Words\n",
    "\n",
    "w = Words()\n",
    "\n",
    "# Make the data structure persistent (with the alias \"WordCountWords\")\n",
    "w.make_persistent(\"WordCountWords\")\n",
    "\n",
    "print(\"Words is persistent and is empty (#%d elements)\" % len(w))\n",
    "\n",
    "for i, item in enumerate(lipsum_text.split()):\n",
    "    # Remove punctuation signs and make the word lowercase\n",
    "    sanitized = item.strip('.,').lower()\n",
    "    w[i] = sanitized\n",
    "\n",
    "print(\"Number of iterations done: %d\" % (i + 1))\n",
    "print(\"`Words`' objects has been populated, number of elements: %d\" % len(w))"
   ]
  },
  {
   "cell_type": "markdown",
   "metadata": {},
   "source": [
    "Check that the object has been persisted and the number of words is the expected one:"
   ]
  },
  {
   "cell_type": "code",
   "execution_count": 4,
   "metadata": {},
   "outputs": [
    {
     "name": "stdout",
     "output_type": "stream",
     "text": [
      "Number of words persisted: 8297\n"
     ]
    }
   ],
   "source": [
    "w_bis = Words.get_by_alias(\"WordCountWords\")\n",
    "print(\"Number of words persisted:\", len(w_bis))"
   ]
  },
  {
   "cell_type": "code",
   "execution_count": null,
   "metadata": {},
   "outputs": [],
   "source": []
  }
 ],
 "metadata": {
  "kernelspec": {
   "display_name": "Python 3",
   "language": "python",
   "name": "python3"
  },
  "language_info": {
   "codemirror_mode": {
    "name": "ipython",
    "version": 3
   },
   "file_extension": ".py",
   "mimetype": "text/x-python",
   "name": "python",
   "nbconvert_exporter": "python",
   "pygments_lexer": "ipython3",
   "version": "3.6.1"
  }
 },
 "nbformat": 4,
 "nbformat_minor": 2
}
