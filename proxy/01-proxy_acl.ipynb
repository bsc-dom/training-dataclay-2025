{
 "cells": [
  {
   "cell_type": "markdown",
   "id": "661b363c",
   "metadata": {},
   "source": [
    "# Proxy for ACL and parceled control"
   ]
  },
  {
   "cell_type": "code",
   "execution_count": 1,
   "id": "d97195f0",
   "metadata": {},
   "outputs": [
    {
     "name": "stderr",
     "output_type": "stream",
     "text": [
      "/home/alex/BSC/training-dataclay-2025/venv/lib/python3.10/site-packages/pydantic_settings/sources.py:659: UserWarning: directory \"/run/secrets\" does not exist\n",
      "  warnings.warn(f'directory \"{path}\" does not exist')\n"
     ]
    }
   ],
   "source": [
    "from dataclay import Client"
   ]
  },
  {
   "cell_type": "markdown",
   "id": "73d55ed6",
   "metadata": {},
   "source": [
    "## Connect to a proxy\n",
    "\n",
    "We started the proxy with middleware in port 8677 (see `docker-compose.yml`).\n",
    "\n",
    "We connect the client to that. Given that the port is not the standard one (the standard was used in prior exercises), we need to explicitly put it there. Also the username."
   ]
  },
  {
   "cell_type": "code",
   "execution_count": 2,
   "id": "c4dc9cde",
   "metadata": {},
   "outputs": [
    {
     "name": "stderr",
     "output_type": "stream",
     "text": [
      "INFO:dataclay.client.api:Starting client runtime\n",
      "INFO:dataclay.client.api:Creating event loop in new thread\n",
      "INFO:dataclay.client.api:Starting client runtime coroutine in event loop\n",
      "INFO:dataclay.client.api:Client runtime started\n"
     ]
    },
    {
     "name": "stdout",
     "output_type": "stream",
     "text": [
      "Starting event loop in new thread\n"
     ]
    },
    {
     "name": "stderr",
     "output_type": "stream",
     "text": [
      "INFO:dataclay.backend.client:SSL not configured\n"
     ]
    }
   ],
   "source": [
    "client = Client(proxy_host=\"127.0.0.1\", proxy_port=8677, username=\"john\")\n",
    "client.start()"
   ]
  },
  {
   "cell_type": "markdown",
   "id": "eda0d072-3216-44b2-b2b9-027761490976",
   "metadata": {},
   "source": [
    "For this simple example, we will be using the `Person` class from the `modeltest.family` module:"
   ]
  },
  {
   "cell_type": "code",
   "execution_count": 3,
   "id": "0a29d8fc",
   "metadata": {},
   "outputs": [
    {
     "ename": "AlreadyExistError",
     "evalue": "Unexpected <class 'grpc._channel._InactiveRpcError'>: <_InactiveRpcError of RPC that terminated with:\n\tstatus = StatusCode.INTERNAL\n\tdetails = \"admin/alice\"\n\tdebug_error_string = \"UNKNOWN:Error received from peer ipv4:172.23.0.4:16587 {grpc_message:\"admin/alice\", grpc_status:13, created_time:\"2025-02-06T15:00:03.519676224+00:00\"}\"\n> already exists",
     "output_type": "error",
     "traceback": [
      "\u001b[0;31m---------------------------------------------------------------------------\u001b[0m",
      "\u001b[0;31mAlreadyExistError\u001b[0m                         Traceback (most recent call last)",
      "Cell \u001b[0;32mIn[3], line 4\u001b[0m\n\u001b[1;32m      1\u001b[0m \u001b[38;5;28;01mfrom\u001b[39;00m\u001b[38;5;250m \u001b[39m\u001b[38;5;21;01mdataclay\u001b[39;00m\u001b[38;5;21;01m.\u001b[39;00m\u001b[38;5;21;01mcontrib\u001b[39;00m\u001b[38;5;21;01m.\u001b[39;00m\u001b[38;5;21;01mmodeltest\u001b[39;00m\u001b[38;5;21;01m.\u001b[39;00m\u001b[38;5;21;01mfamily\u001b[39;00m\u001b[38;5;250m \u001b[39m\u001b[38;5;28;01mimport\u001b[39;00m Person\n\u001b[1;32m      3\u001b[0m p \u001b[38;5;241m=\u001b[39m Person(\u001b[38;5;124m\"\u001b[39m\u001b[38;5;124mAlice\u001b[39m\u001b[38;5;124m\"\u001b[39m, \u001b[38;5;241m42\u001b[39m)\n\u001b[0;32m----> 4\u001b[0m \u001b[43mp\u001b[49m\u001b[38;5;241;43m.\u001b[39;49m\u001b[43mmake_persistent\u001b[49m\u001b[43m(\u001b[49m\u001b[38;5;124;43m\"\u001b[39;49m\u001b[38;5;124;43malice\u001b[39;49m\u001b[38;5;124;43m\"\u001b[39;49m\u001b[43m)\u001b[49m\n",
      "File \u001b[0;32m~/BSC/training-dataclay-2025/venv/lib/python3.10/site-packages/dataclay/dataclay_object.py:441\u001b[0m, in \u001b[0;36mDataClayObject.make_persistent\u001b[0;34m(self, alias, backend_id)\u001b[0m\n\u001b[1;32m    430\u001b[0m \u001b[38;5;250m\u001b[39m\u001b[38;5;124;03m\"\"\"Makes the object persistent.\u001b[39;00m\n\u001b[1;32m    431\u001b[0m \n\u001b[1;32m    432\u001b[0m \u001b[38;5;124;03m:param alias: Alias of the object. If None, the object will not have an alias.\u001b[39;00m\n\u001b[0;32m   (...)\u001b[0m\n\u001b[1;32m    436\u001b[0m \u001b[38;5;124;03m:raises: KeyError: If the backend_id is not registered in dataClay.\u001b[39;00m\n\u001b[1;32m    437\u001b[0m \u001b[38;5;124;03m\"\"\"\u001b[39;00m\n\u001b[1;32m    438\u001b[0m future \u001b[38;5;241m=\u001b[39m asyncio\u001b[38;5;241m.\u001b[39mrun_coroutine_threadsafe(\n\u001b[1;32m    439\u001b[0m     \u001b[38;5;28mself\u001b[39m\u001b[38;5;241m.\u001b[39m_make_persistent(alias, backend_id), get_dc_event_loop()\n\u001b[1;32m    440\u001b[0m )\n\u001b[0;32m--> 441\u001b[0m \u001b[38;5;28;01mreturn\u001b[39;00m \u001b[43mfuture\u001b[49m\u001b[38;5;241;43m.\u001b[39;49m\u001b[43mresult\u001b[49m\u001b[43m(\u001b[49m\u001b[43m)\u001b[49m\n",
      "File \u001b[0;32m/usr/lib/python3.10/concurrent/futures/_base.py:458\u001b[0m, in \u001b[0;36mFuture.result\u001b[0;34m(self, timeout)\u001b[0m\n\u001b[1;32m    456\u001b[0m     \u001b[38;5;28;01mraise\u001b[39;00m CancelledError()\n\u001b[1;32m    457\u001b[0m \u001b[38;5;28;01melif\u001b[39;00m \u001b[38;5;28mself\u001b[39m\u001b[38;5;241m.\u001b[39m_state \u001b[38;5;241m==\u001b[39m FINISHED:\n\u001b[0;32m--> 458\u001b[0m     \u001b[38;5;28;01mreturn\u001b[39;00m \u001b[38;5;28;43mself\u001b[39;49m\u001b[38;5;241;43m.\u001b[39;49m\u001b[43m__get_result\u001b[49m\u001b[43m(\u001b[49m\u001b[43m)\u001b[49m\n\u001b[1;32m    459\u001b[0m \u001b[38;5;28;01melse\u001b[39;00m:\n\u001b[1;32m    460\u001b[0m     \u001b[38;5;28;01mraise\u001b[39;00m \u001b[38;5;167;01mTimeoutError\u001b[39;00m()\n",
      "File \u001b[0;32m/usr/lib/python3.10/concurrent/futures/_base.py:403\u001b[0m, in \u001b[0;36mFuture.__get_result\u001b[0;34m(self)\u001b[0m\n\u001b[1;32m    401\u001b[0m \u001b[38;5;28;01mif\u001b[39;00m \u001b[38;5;28mself\u001b[39m\u001b[38;5;241m.\u001b[39m_exception:\n\u001b[1;32m    402\u001b[0m     \u001b[38;5;28;01mtry\u001b[39;00m:\n\u001b[0;32m--> 403\u001b[0m         \u001b[38;5;28;01mraise\u001b[39;00m \u001b[38;5;28mself\u001b[39m\u001b[38;5;241m.\u001b[39m_exception\n\u001b[1;32m    404\u001b[0m     \u001b[38;5;28;01mfinally\u001b[39;00m:\n\u001b[1;32m    405\u001b[0m         \u001b[38;5;66;03m# Break a reference cycle with the exception in self._exception\u001b[39;00m\n\u001b[1;32m    406\u001b[0m         \u001b[38;5;28mself\u001b[39m \u001b[38;5;241m=\u001b[39m \u001b[38;5;28;01mNone\u001b[39;00m\n",
      "File \u001b[0;32m~/BSC/training-dataclay-2025/venv/lib/python3.10/site-packages/opentelemetry/util/_decorator.py:71\u001b[0m, in \u001b[0;36m_AgnosticContextManager.__call__.<locals>.async_wrapper\u001b[0;34m(*args, **kwargs)\u001b[0m\n\u001b[1;32m     68\u001b[0m \u001b[38;5;129m@functools\u001b[39m\u001b[38;5;241m.\u001b[39mwraps(func)  \u001b[38;5;66;03m# type: ignore\u001b[39;00m\n\u001b[1;32m     69\u001b[0m \u001b[38;5;28;01masync\u001b[39;00m \u001b[38;5;28;01mdef\u001b[39;00m\u001b[38;5;250m \u001b[39m\u001b[38;5;21masync_wrapper\u001b[39m(\u001b[38;5;241m*\u001b[39margs: Pargs, \u001b[38;5;241m*\u001b[39m\u001b[38;5;241m*\u001b[39mkwargs: Pkwargs) \u001b[38;5;241m-\u001b[39m\u001b[38;5;241m>\u001b[39m R:\n\u001b[1;32m     70\u001b[0m     \u001b[38;5;28;01mwith\u001b[39;00m \u001b[38;5;28mself\u001b[39m\u001b[38;5;241m.\u001b[39m_recreate_cm():  \u001b[38;5;66;03m# type: ignore\u001b[39;00m\n\u001b[0;32m---> 71\u001b[0m         \u001b[38;5;28;01mreturn\u001b[39;00m \u001b[38;5;28;01mawait\u001b[39;00m func(\u001b[38;5;241m*\u001b[39margs, \u001b[38;5;241m*\u001b[39m\u001b[38;5;241m*\u001b[39mkwargs)\n",
      "File \u001b[0;32m~/BSC/training-dataclay-2025/venv/lib/python3.10/site-packages/dataclay/dataclay_object.py:418\u001b[0m, in \u001b[0;36mDataClayObject._make_persistent\u001b[0;34m(self, alias, backend_id)\u001b[0m\n\u001b[1;32m    416\u001b[0m         \u001b[38;5;28;01mawait\u001b[39;00m \u001b[38;5;28mself\u001b[39m\u001b[38;5;241m.\u001b[39ma_add_alias(alias)\n\u001b[1;32m    417\u001b[0m \u001b[38;5;28;01melse\u001b[39;00m:\n\u001b[0;32m--> 418\u001b[0m     \u001b[38;5;28;01mawait\u001b[39;00m get_runtime()\u001b[38;5;241m.\u001b[39mmake_persistent(\u001b[38;5;28mself\u001b[39m, alias\u001b[38;5;241m=\u001b[39malias, backend_id\u001b[38;5;241m=\u001b[39mbackend_id)\n",
      "File \u001b[0;32m~/BSC/training-dataclay-2025/venv/lib/python3.10/site-packages/dataclay/runtime.py:122\u001b[0m, in \u001b[0;36mDataClayRuntime.make_persistent\u001b[0;34m(self, instance, alias, backend_id)\u001b[0m\n\u001b[1;32m    115\u001b[0m \u001b[38;5;28;01mif\u001b[39;00m alias:\n\u001b[1;32m    116\u001b[0m     logger\u001b[38;5;241m.\u001b[39mdebug(\n\u001b[1;32m    117\u001b[0m         \u001b[38;5;124m\"\u001b[39m\u001b[38;5;124m(\u001b[39m\u001b[38;5;132;01m%s\u001b[39;00m\u001b[38;5;124m) Registering alias \u001b[39m\u001b[38;5;124m'\u001b[39m\u001b[38;5;132;01m%s\u001b[39;00m\u001b[38;5;124m/\u001b[39m\u001b[38;5;132;01m%s\u001b[39;00m\u001b[38;5;124m'\u001b[39m\u001b[38;5;124m\"\u001b[39m,\n\u001b[1;32m    118\u001b[0m         instance\u001b[38;5;241m.\u001b[39m_dc_meta\u001b[38;5;241m.\u001b[39mid,\n\u001b[1;32m    119\u001b[0m         instance\u001b[38;5;241m.\u001b[39m_dc_meta\u001b[38;5;241m.\u001b[39mdataset_name,\n\u001b[1;32m    120\u001b[0m         alias,\n\u001b[1;32m    121\u001b[0m     )\n\u001b[0;32m--> 122\u001b[0m     \u001b[38;5;28;01mawait\u001b[39;00m \u001b[38;5;28mself\u001b[39m\u001b[38;5;241m.\u001b[39mmetadata_service\u001b[38;5;241m.\u001b[39mnew_alias(\n\u001b[1;32m    123\u001b[0m         alias, instance\u001b[38;5;241m.\u001b[39m_dc_meta\u001b[38;5;241m.\u001b[39mdataset_name, instance\u001b[38;5;241m.\u001b[39m_dc_meta\u001b[38;5;241m.\u001b[39mid\n\u001b[1;32m    124\u001b[0m     )\n\u001b[1;32m    126\u001b[0m \u001b[38;5;66;03m# If called inside backend runtime, default is to register in the current backend\u001b[39;00m\n\u001b[1;32m    127\u001b[0m \u001b[38;5;66;03m# unles another backend is explicitly specified\u001b[39;00m\n\u001b[1;32m    128\u001b[0m \u001b[38;5;28;01mif\u001b[39;00m \u001b[38;5;28mself\u001b[39m\u001b[38;5;241m.\u001b[39mis_backend \u001b[38;5;129;01mand\u001b[39;00m (backend_id \u001b[38;5;129;01mis\u001b[39;00m \u001b[38;5;28;01mNone\u001b[39;00m \u001b[38;5;129;01mor\u001b[39;00m backend_id \u001b[38;5;241m==\u001b[39m \u001b[38;5;28mself\u001b[39m\u001b[38;5;241m.\u001b[39mbackend\u001b[38;5;241m.\u001b[39mid):\n",
      "File \u001b[0;32m~/BSC/training-dataclay-2025/venv/lib/python3.10/site-packages/dataclay/utils/decorators.py:36\u001b[0m, in \u001b[0;36mgrpc_aio_error_handler.<locals>.wrapper\u001b[0;34m(*args, **kwargs)\u001b[0m\n\u001b[1;32m     34\u001b[0m \u001b[38;5;28;01melif\u001b[39;00m \u001b[38;5;124m\"\u001b[39m\u001b[38;5;124malready exists\u001b[39m\u001b[38;5;124m\"\u001b[39m \u001b[38;5;129;01min\u001b[39;00m rpc_error\u001b[38;5;241m.\u001b[39mdetails():\n\u001b[1;32m     35\u001b[0m     \u001b[38;5;28;01mif\u001b[39;00m \u001b[38;5;124m\"\u001b[39m\u001b[38;5;124mAlias\u001b[39m\u001b[38;5;124m\"\u001b[39m \u001b[38;5;129;01min\u001b[39;00m rpc_error\u001b[38;5;241m.\u001b[39mdetails():\n\u001b[0;32m---> 36\u001b[0m         \u001b[38;5;28;01mraise\u001b[39;00m AlreadyExistError(\n\u001b[1;32m     37\u001b[0m             rpc_error\u001b[38;5;241m.\u001b[39mdetails()\u001b[38;5;241m.\u001b[39mreplace(\u001b[38;5;124m\"\u001b[39m\u001b[38;5;124mAlias \u001b[39m\u001b[38;5;124m\"\u001b[39m, \u001b[38;5;124m\"\u001b[39m\u001b[38;5;124m\"\u001b[39m)\u001b[38;5;241m.\u001b[39mreplace(\u001b[38;5;124m\"\u001b[39m\u001b[38;5;124m already exists\u001b[39m\u001b[38;5;124m\"\u001b[39m, \u001b[38;5;124m\"\u001b[39m\u001b[38;5;124m\"\u001b[39m)\n\u001b[1;32m     38\u001b[0m         ) \u001b[38;5;28;01mfrom\u001b[39;00m\u001b[38;5;250m \u001b[39m\u001b[38;5;28;01mNone\u001b[39;00m\n\u001b[1;32m     39\u001b[0m     \u001b[38;5;28;01melse\u001b[39;00m:\n\u001b[1;32m     40\u001b[0m         \u001b[38;5;28;01mraise\u001b[39;00m AlreadyExistError(\n\u001b[1;32m     41\u001b[0m             rpc_error\u001b[38;5;241m.\u001b[39mdetails()\u001b[38;5;241m.\u001b[39mreplace(\u001b[38;5;124m\"\u001b[39m\u001b[38;5;124m already exists\u001b[39m\u001b[38;5;124m\"\u001b[39m, \u001b[38;5;124m\"\u001b[39m\u001b[38;5;124m\"\u001b[39m)\n\u001b[1;32m     42\u001b[0m         ) \u001b[38;5;28;01mfrom\u001b[39;00m\u001b[38;5;250m \u001b[39m\u001b[38;5;28;01mNone\u001b[39;00m\n",
      "\u001b[0;31mAlreadyExistError\u001b[0m: Unexpected <class 'grpc._channel._InactiveRpcError'>: <_InactiveRpcError of RPC that terminated with:\n\tstatus = StatusCode.INTERNAL\n\tdetails = \"admin/alice\"\n\tdebug_error_string = \"UNKNOWN:Error received from peer ipv4:172.23.0.4:16587 {grpc_message:\"admin/alice\", grpc_status:13, created_time:\"2025-02-06T15:00:03.519676224+00:00\"}\"\n> already exists"
     ]
    }
   ],
   "source": [
    "from dataclay.contrib.modeltest.family import Person\n",
    "\n",
    "p = Person(\"Alice\", 42)\n",
    "p.make_persistent(\"alice\")"
   ]
  },
  {
   "cell_type": "markdown",
   "id": "99eecc15",
   "metadata": {},
   "source": [
    "Well, actually today's Alice's birthday; let's add a year to her age"
   ]
  },
  {
   "cell_type": "code",
   "execution_count": 4,
   "id": "ce34bd49",
   "metadata": {},
   "outputs": [],
   "source": [
    "p.add_year()"
   ]
  },
  {
   "cell_type": "markdown",
   "id": "27c1e034",
   "metadata": {},
   "source": [
    "Oh shoot! John can only read, not call methods :(\n",
    "\n",
    "We can in fact read the attributes:"
   ]
  },
  {
   "cell_type": "code",
   "execution_count": 5,
   "id": "e15b9616-7f7f-49f4-b8a5-e77a63c77e1a",
   "metadata": {},
   "outputs": [
    {
     "name": "stdout",
     "output_type": "stream",
     "text": [
      "43\n",
      "Alice\n"
     ]
    }
   ],
   "source": [
    "print(p.age)\n",
    "print(p.name)"
   ]
  },
  {
   "cell_type": "markdown",
   "id": "7ac2583d-11d7-4a7e-9e0f-659132a0b8eb",
   "metadata": {},
   "source": [
    "And we cannot, in fact, write to them:"
   ]
  },
  {
   "cell_type": "code",
   "execution_count": 6,
   "id": "85e60b5c-a23e-46e9-bb60-b7255a26b97c",
   "metadata": {},
   "outputs": [],
   "source": [
    "p.name = \"Alice Carroll\""
   ]
  },
  {
   "cell_type": "markdown",
   "id": "662e49b3-cd75-4b08-9483-7bc5a1d1d333",
   "metadata": {},
   "source": [
    "## Add a new Middleware for user **james**\n",
    "\n",
    "Create a new middleware class in `middleware.py`.\n",
    "\n",
    "- It should apply to the `james` user only\n",
    "- User `james` should be able to *read* and *write* on the `age` attribute\n",
    "  - You can check the name of the attribute on the `*ObjectAttribute` through the `request.attribute`.\n",
    "- User `james` should be able to call the `add_year` method\n",
    "  - You can check the method name on the `CallActiveMethod` through the `request.method_name`.\n",
    " \n",
    "Once you have finished the middleware.py, restart the `proxy_exercise` docker (`docker compose restart proxy_exercise`)."
   ]
  },
  {
   "cell_type": "code",
   "execution_count": 7,
   "id": "9f71dbd9-b6ed-49cb-9a4d-91ee090429b2",
   "metadata": {},
   "outputs": [
    {
     "name": "stderr",
     "output_type": "stream",
     "text": [
      "WARNING:dataclay.client.api:Client instance deleted without calling stop() for a clean shutdown\n",
      "INFO:dataclay.client.api:Starting client runtime\n",
      "INFO:dataclay.client.api:Using existing event loop\n",
      "INFO:dataclay.client.api:Starting client runtime coroutine in event loop\n",
      "INFO:dataclay.client.api:Client runtime started\n",
      "INFO:dataclay.backend.client:SSL not configured\n"
     ]
    }
   ],
   "source": [
    "client = Client(proxy_host=\"127.0.0.1\", proxy_port=8677, username=\"james\")\n",
    "client.start()"
   ]
  },
  {
   "cell_type": "markdown",
   "id": "34e094a1-a2b3-4c28-ace1-f8e849e5dbac",
   "metadata": {},
   "source": [
    "Retrieving the user and checking its age should be ok:"
   ]
  },
  {
   "cell_type": "code",
   "execution_count": 8,
   "id": "dfb3e7eb-3f82-4f57-841d-d0a318e9c651",
   "metadata": {},
   "outputs": [
    {
     "data": {
      "text/plain": [
       "44"
      ]
     },
     "execution_count": 8,
     "metadata": {},
     "output_type": "execute_result"
    }
   ],
   "source": [
    "p = Person.get_by_alias(\"alice\")\n",
    "p.age"
   ]
  },
  {
   "cell_type": "markdown",
   "id": "b196d60c-fe75-49d3-ac71-aa3f8d96417a",
   "metadata": {},
   "source": [
    "This should fail:"
   ]
  },
  {
   "cell_type": "code",
   "execution_count": 9,
   "id": "fb945666-f689-4385-acd9-ea955fe95656",
   "metadata": {},
   "outputs": [
    {
     "ename": "DataClayException",
     "evalue": "James can only access the `age` attribute",
     "output_type": "error",
     "traceback": [
      "\u001b[0;31m---------------------------------------------------------------------------\u001b[0m",
      "\u001b[0;31mDataClayException\u001b[0m                         Traceback (most recent call last)",
      "Cell \u001b[0;32mIn[9], line 1\u001b[0m\n\u001b[0;32m----> 1\u001b[0m \u001b[43mp\u001b[49m\u001b[38;5;241;43m.\u001b[39;49m\u001b[43mname\u001b[49m\n",
      "File \u001b[0;32m~/BSC/training-dataclay-2025/venv/lib/python3.10/site-packages/dataclay/dataclay_object.py:174\u001b[0m, in \u001b[0;36mDataClayProperty.__get__\u001b[0;34m(self, instance, owner)\u001b[0m\n\u001b[1;32m    169\u001b[0m logger\u001b[38;5;241m.\u001b[39mdebug(\u001b[38;5;124m\"\u001b[39m\u001b[38;5;124m(\u001b[39m\u001b[38;5;132;01m%s\u001b[39;00m\u001b[38;5;124m) Calling remote __getattribute__\u001b[39m\u001b[38;5;124m\"\u001b[39m, instance\u001b[38;5;241m.\u001b[39m_dc_meta\u001b[38;5;241m.\u001b[39mid)\n\u001b[1;32m    170\u001b[0m \u001b[38;5;28;01massert\u001b[39;00m get_dc_event_loop()\u001b[38;5;241m.\u001b[39m_thread_id \u001b[38;5;241m!=\u001b[39m threading\u001b[38;5;241m.\u001b[39mget_ident()\n\u001b[1;32m    171\u001b[0m \u001b[38;5;28;01mreturn\u001b[39;00m \u001b[43masyncio\u001b[49m\u001b[38;5;241;43m.\u001b[39;49m\u001b[43mrun_coroutine_threadsafe\u001b[49m\u001b[43m(\u001b[49m\n\u001b[1;32m    172\u001b[0m \u001b[43m    \u001b[49m\u001b[43mget_runtime\u001b[49m\u001b[43m(\u001b[49m\u001b[43m)\u001b[49m\u001b[38;5;241;43m.\u001b[39;49m\u001b[43mcall_remote_method\u001b[49m\u001b[43m(\u001b[49m\u001b[43minstance\u001b[49m\u001b[43m,\u001b[49m\u001b[43m \u001b[49m\u001b[38;5;124;43m\"\u001b[39;49m\u001b[38;5;124;43m__getattribute__\u001b[39;49m\u001b[38;5;124;43m\"\u001b[39;49m\u001b[43m,\u001b[49m\u001b[43m \u001b[49m\u001b[43m(\u001b[49m\u001b[38;5;28;43mself\u001b[39;49m\u001b[38;5;241;43m.\u001b[39;49m\u001b[43mname\u001b[49m\u001b[43m,\u001b[49m\u001b[43m)\u001b[49m\u001b[43m,\u001b[49m\u001b[43m \u001b[49m\u001b[43m{\u001b[49m\u001b[43m}\u001b[49m\u001b[43m)\u001b[49m\u001b[43m,\u001b[49m\n\u001b[1;32m    173\u001b[0m \u001b[43m    \u001b[49m\u001b[43mget_dc_event_loop\u001b[49m\u001b[43m(\u001b[49m\u001b[43m)\u001b[49m\u001b[43m,\u001b[49m\n\u001b[0;32m--> 174\u001b[0m \u001b[43m\u001b[49m\u001b[43m)\u001b[49m\u001b[38;5;241;43m.\u001b[39;49m\u001b[43mresult\u001b[49m\u001b[43m(\u001b[49m\u001b[43m)\u001b[49m\n",
      "File \u001b[0;32m/usr/lib/python3.10/concurrent/futures/_base.py:458\u001b[0m, in \u001b[0;36mFuture.result\u001b[0;34m(self, timeout)\u001b[0m\n\u001b[1;32m    456\u001b[0m     \u001b[38;5;28;01mraise\u001b[39;00m CancelledError()\n\u001b[1;32m    457\u001b[0m \u001b[38;5;28;01melif\u001b[39;00m \u001b[38;5;28mself\u001b[39m\u001b[38;5;241m.\u001b[39m_state \u001b[38;5;241m==\u001b[39m FINISHED:\n\u001b[0;32m--> 458\u001b[0m     \u001b[38;5;28;01mreturn\u001b[39;00m \u001b[38;5;28;43mself\u001b[39;49m\u001b[38;5;241;43m.\u001b[39;49m\u001b[43m__get_result\u001b[49m\u001b[43m(\u001b[49m\u001b[43m)\u001b[49m\n\u001b[1;32m    459\u001b[0m \u001b[38;5;28;01melse\u001b[39;00m:\n\u001b[1;32m    460\u001b[0m     \u001b[38;5;28;01mraise\u001b[39;00m \u001b[38;5;167;01mTimeoutError\u001b[39;00m()\n",
      "File \u001b[0;32m/usr/lib/python3.10/concurrent/futures/_base.py:403\u001b[0m, in \u001b[0;36mFuture.__get_result\u001b[0;34m(self)\u001b[0m\n\u001b[1;32m    401\u001b[0m \u001b[38;5;28;01mif\u001b[39;00m \u001b[38;5;28mself\u001b[39m\u001b[38;5;241m.\u001b[39m_exception:\n\u001b[1;32m    402\u001b[0m     \u001b[38;5;28;01mtry\u001b[39;00m:\n\u001b[0;32m--> 403\u001b[0m         \u001b[38;5;28;01mraise\u001b[39;00m \u001b[38;5;28mself\u001b[39m\u001b[38;5;241m.\u001b[39m_exception\n\u001b[1;32m    404\u001b[0m     \u001b[38;5;28;01mfinally\u001b[39;00m:\n\u001b[1;32m    405\u001b[0m         \u001b[38;5;66;03m# Break a reference cycle with the exception in self._exception\u001b[39;00m\n\u001b[1;32m    406\u001b[0m         \u001b[38;5;28mself\u001b[39m \u001b[38;5;241m=\u001b[39m \u001b[38;5;28;01mNone\u001b[39;00m\n",
      "File \u001b[0;32m~/BSC/training-dataclay-2025/venv/lib/python3.10/site-packages/dataclay/runtime.py:443\u001b[0m, in \u001b[0;36mDataClayRuntime.call_remote_method\u001b[0;34m(self, instance, method_name, args, kwargs)\u001b[0m\n\u001b[1;32m    441\u001b[0m         \u001b[38;5;28;01mcontinue\u001b[39;00m\n\u001b[1;32m    442\u001b[0m     \u001b[38;5;28;01melse\u001b[39;00m:\n\u001b[0;32m--> 443\u001b[0m         \u001b[38;5;28;01mraise\u001b[39;00m e\n\u001b[1;32m    445\u001b[0m \u001b[38;5;66;03m# Deserialize the response if not None\u001b[39;00m\n\u001b[1;32m    446\u001b[0m \u001b[38;5;28;01mif\u001b[39;00m serialized_response:\n",
      "File \u001b[0;32m~/BSC/training-dataclay-2025/venv/lib/python3.10/site-packages/dataclay/runtime.py:396\u001b[0m, in \u001b[0;36mDataClayRuntime.call_remote_method\u001b[0;34m(self, instance, method_name, args, kwargs)\u001b[0m\n\u001b[1;32m    389\u001b[0m \u001b[38;5;28;01mif\u001b[39;00m method_name \u001b[38;5;241m==\u001b[39m \u001b[38;5;124m\"\u001b[39m\u001b[38;5;124m__getattribute__\u001b[39m\u001b[38;5;124m\"\u001b[39m:\n\u001b[1;32m    390\u001b[0m     logger\u001b[38;5;241m.\u001b[39mdebug(\n\u001b[1;32m    391\u001b[0m         \u001b[38;5;124m\"\u001b[39m\u001b[38;5;124m(\u001b[39m\u001b[38;5;132;01m%s\u001b[39;00m\u001b[38;5;124m) Getting remote attribute \u001b[39m\u001b[38;5;124m'\u001b[39m\u001b[38;5;132;01m%s\u001b[39;00m\u001b[38;5;124m'\u001b[39m\u001b[38;5;124m\"\u001b[39m, instance\u001b[38;5;241m.\u001b[39m_dc_meta\u001b[38;5;241m.\u001b[39mid, args[\u001b[38;5;241m0\u001b[39m]\n\u001b[1;32m    392\u001b[0m     )\n\u001b[1;32m    393\u001b[0m     (\n\u001b[1;32m    394\u001b[0m         serialized_response,\n\u001b[1;32m    395\u001b[0m         is_exception,\n\u001b[0;32m--> 396\u001b[0m     ) \u001b[38;5;241m=\u001b[39m \u001b[38;5;28;01mawait\u001b[39;00m backend_client\u001b[38;5;241m.\u001b[39mget_object_attribute(\n\u001b[1;32m    397\u001b[0m         instance\u001b[38;5;241m.\u001b[39m_dc_meta\u001b[38;5;241m.\u001b[39mid,\n\u001b[1;32m    398\u001b[0m         args[\u001b[38;5;241m0\u001b[39m],  \u001b[38;5;66;03m# attribute name\u001b[39;00m\n\u001b[1;32m    399\u001b[0m     )\n\u001b[1;32m    400\u001b[0m \u001b[38;5;28;01melif\u001b[39;00m method_name \u001b[38;5;241m==\u001b[39m \u001b[38;5;124m\"\u001b[39m\u001b[38;5;124m__setattr__\u001b[39m\u001b[38;5;124m\"\u001b[39m:\n\u001b[1;32m    401\u001b[0m     logger\u001b[38;5;241m.\u001b[39mdebug(\n\u001b[1;32m    402\u001b[0m         \u001b[38;5;124m\"\u001b[39m\u001b[38;5;124m(\u001b[39m\u001b[38;5;132;01m%s\u001b[39;00m\u001b[38;5;124m) Setting remote attribute \u001b[39m\u001b[38;5;124m'\u001b[39m\u001b[38;5;132;01m%s\u001b[39;00m\u001b[38;5;124m'\u001b[39m\u001b[38;5;124m\"\u001b[39m, instance\u001b[38;5;241m.\u001b[39m_dc_meta\u001b[38;5;241m.\u001b[39mid, args[\u001b[38;5;241m0\u001b[39m]\n\u001b[1;32m    403\u001b[0m     )\n",
      "File \u001b[0;32m~/BSC/training-dataclay-2025/venv/lib/python3.10/site-packages/dataclay/utils/decorators.py:44\u001b[0m, in \u001b[0;36mgrpc_aio_error_handler.<locals>.wrapper\u001b[0;34m(*args, **kwargs)\u001b[0m\n\u001b[1;32m     40\u001b[0m         \u001b[38;5;28;01mraise\u001b[39;00m AlreadyExistError(\n\u001b[1;32m     41\u001b[0m             rpc_error\u001b[38;5;241m.\u001b[39mdetails()\u001b[38;5;241m.\u001b[39mreplace(\u001b[38;5;124m\"\u001b[39m\u001b[38;5;124m already exists\u001b[39m\u001b[38;5;124m\"\u001b[39m, \u001b[38;5;124m\"\u001b[39m\u001b[38;5;124m\"\u001b[39m)\n\u001b[1;32m     42\u001b[0m         ) \u001b[38;5;28;01mfrom\u001b[39;00m\u001b[38;5;250m \u001b[39m\u001b[38;5;28;01mNone\u001b[39;00m\n\u001b[1;32m     43\u001b[0m \u001b[38;5;28;01melse\u001b[39;00m:\n\u001b[0;32m---> 44\u001b[0m     \u001b[38;5;28;01mraise\u001b[39;00m DataClayException(rpc_error\u001b[38;5;241m.\u001b[39mdetails()) \u001b[38;5;28;01mfrom\u001b[39;00m\u001b[38;5;250m \u001b[39m\u001b[38;5;28;01mNone\u001b[39;00m\n",
      "\u001b[0;31mDataClayException\u001b[0m: James can only access the `age` attribute"
     ]
    }
   ],
   "source": [
    "p.name"
   ]
  },
  {
   "cell_type": "markdown",
   "id": "fdcfb929-494f-4558-a5d6-bcd4872f9bbc",
   "metadata": {},
   "source": [
    "Writing to the attribute or calling to the `add_year` should also be ok"
   ]
  },
  {
   "cell_type": "code",
   "execution_count": 10,
   "id": "a71446d2-72a6-47a3-b6ad-1bdda244f477",
   "metadata": {},
   "outputs": [
    {
     "name": "stdout",
     "output_type": "stream",
     "text": [
      "Age before adding a year: 44\n",
      "Age after adding a year: 45\n"
     ]
    }
   ],
   "source": [
    "print(\"Age before adding a year:\", p.age)\n",
    "p.add_year()\n",
    "print(\"Age after adding a year:\", p.age)"
   ]
  },
  {
   "cell_type": "code",
   "execution_count": null,
   "id": "c3d50cc1-db0d-42b8-9a45-ded11232b735",
   "metadata": {},
   "outputs": [],
   "source": []
  }
 ],
 "metadata": {
  "kernelspec": {
   "display_name": "Python 3 (ipykernel)",
   "language": "python",
   "name": "python3"
  },
  "language_info": {
   "codemirror_mode": {
    "name": "ipython",
    "version": 3
   },
   "file_extension": ".py",
   "mimetype": "text/x-python",
   "name": "python",
   "nbconvert_exporter": "python",
   "pygments_lexer": "ipython3",
   "version": "3.10.12"
  }
 },
 "nbformat": 4,
 "nbformat_minor": 5
}
