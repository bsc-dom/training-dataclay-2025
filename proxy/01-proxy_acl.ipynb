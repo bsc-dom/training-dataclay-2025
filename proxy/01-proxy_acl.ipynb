{
 "cells": [
  {
   "cell_type": "markdown",
   "id": "661b363c",
   "metadata": {},
   "source": [
    "# Proxy for ACL and parceled control"
   ]
  },
  {
   "cell_type": "code",
   "execution_count": null,
   "id": "d97195f0",
   "metadata": {},
   "outputs": [],
   "source": [
    "from dataclay import Client"
   ]
  },
  {
   "cell_type": "markdown",
   "id": "73d55ed6",
   "metadata": {},
   "source": [
    "## Connect to a proxy\n",
    "\n",
    "We started the proxy with middleware in port 8677 (see `docker-compose.yml`).\n",
    "\n",
    "We connect the client to that. Given that the port is not the standard one (the standard was used in prior exercises), we need to explicitly put it there. Also the username."
   ]
  },
  {
   "cell_type": "code",
   "execution_count": null,
   "id": "c4dc9cde",
   "metadata": {},
   "outputs": [],
   "source": [
    "client = Client(proxy_host=\"127.0.0.1\", proxy_port=8677, username=\"john\")\n",
    "client.start()"
   ]
  },
  {
   "cell_type": "markdown",
   "id": "eda0d072-3216-44b2-b2b9-027761490976",
   "metadata": {},
   "source": [
    "For this simple example, we will be using the `Person` class from the `modeltest.family` module:"
   ]
  },
  {
   "cell_type": "code",
   "execution_count": null,
   "id": "0a29d8fc",
   "metadata": {},
   "outputs": [],
   "source": [
    "from dataclay.contrib.modeltest.family import Person\n",
    "\n",
    "p = Person(\"Alice\", 42)\n",
    "p.make_persistent(\"alice\")"
   ]
  },
  {
   "cell_type": "markdown",
   "id": "99eecc15",
   "metadata": {},
   "source": [
    "Well, actually today's Alice's birthday; let's add a year to her age"
   ]
  },
  {
   "cell_type": "code",
   "execution_count": null,
   "id": "ce34bd49",
   "metadata": {},
   "outputs": [],
   "source": [
    "p.add_year()"
   ]
  },
  {
   "cell_type": "markdown",
   "id": "27c1e034",
   "metadata": {},
   "source": [
    "Oh shoot! John can only read, not call methods :(\n",
    "\n",
    "We can in fact read the attributes:"
   ]
  },
  {
   "cell_type": "code",
   "execution_count": null,
   "id": "e15b9616-7f7f-49f4-b8a5-e77a63c77e1a",
   "metadata": {},
   "outputs": [],
   "source": [
    "print(p.age)\n",
    "print(p.name)"
   ]
  },
  {
   "cell_type": "markdown",
   "id": "7ac2583d-11d7-4a7e-9e0f-659132a0b8eb",
   "metadata": {},
   "source": [
    "And we cannot, in fact, write to them:"
   ]
  },
  {
   "cell_type": "code",
   "execution_count": null,
   "id": "85e60b5c-a23e-46e9-bb60-b7255a26b97c",
   "metadata": {},
   "outputs": [],
   "source": [
    "p.name = \"Alice Carroll\""
   ]
  },
  {
   "cell_type": "markdown",
   "id": "662e49b3-cd75-4b08-9483-7bc5a1d1d333",
   "metadata": {},
   "source": [
    "## Add a new Middleware for user **james**\n",
    "\n",
    "Create a new middleware class in `middleware.py`.\n",
    "\n",
    "- It should apply to the `james` user only\n",
    "- User `james` should be able to *read* and *write* on the `age` attribute\n",
    "  - You can check the name of the attribute on the `*ObjectAttribute` through the `request.attribute`.\n",
    "- User `james` should be able to call the `add_year` method\n",
    "  - You can check the method name on the `CallActiveMethod` through the `request.method_name`.\n",
    " \n",
    "Once you have finished the middleware.py, restart the `proxy_exercise` docker (`docker compose restart proxy_exercise`)."
   ]
  },
  {
   "cell_type": "code",
   "execution_count": null,
   "id": "9f71dbd9-b6ed-49cb-9a4d-91ee090429b2",
   "metadata": {},
   "outputs": [],
   "source": [
    "client = Client(proxy_host=\"127.0.0.1\", proxy_port=8677, username=\"james\")\n",
    "client.start()"
   ]
  },
  {
   "cell_type": "markdown",
   "id": "34e094a1-a2b3-4c28-ace1-f8e849e5dbac",
   "metadata": {},
   "source": [
    "Retrieving the user and checking its age should be ok:"
   ]
  },
  {
   "cell_type": "code",
   "execution_count": null,
   "id": "dfb3e7eb-3f82-4f57-841d-d0a318e9c651",
   "metadata": {},
   "outputs": [],
   "source": [
    "p = Person.get_by_alias(\"alice\")\n",
    "p.age"
   ]
  },
  {
   "cell_type": "markdown",
   "id": "b196d60c-fe75-49d3-ac71-aa3f8d96417a",
   "metadata": {},
   "source": [
    "This should fail:"
   ]
  },
  {
   "cell_type": "code",
   "execution_count": null,
   "id": "fb945666-f689-4385-acd9-ea955fe95656",
   "metadata": {},
   "outputs": [],
   "source": [
    "p.name"
   ]
  },
  {
   "cell_type": "markdown",
   "id": "fdcfb929-494f-4558-a5d6-bcd4872f9bbc",
   "metadata": {},
   "source": [
    "Writing to the attribute or calling to the `add_year` should also be ok"
   ]
  },
  {
   "cell_type": "code",
   "execution_count": null,
   "id": "a71446d2-72a6-47a3-b6ad-1bdda244f477",
   "metadata": {},
   "outputs": [],
   "source": [
    "print(\"Age before adding a year:\", p.age)\n",
    "p.add_year()\n",
    "print(\"Age after adding a year:\", p.age)"
   ]
  },
  {
   "cell_type": "code",
   "execution_count": null,
   "id": "c3d50cc1-db0d-42b8-9a45-ded11232b735",
   "metadata": {},
   "outputs": [],
   "source": []
  }
 ],
 "metadata": {
  "kernelspec": {
   "display_name": "Python 3 (ipykernel)",
   "language": "python",
   "name": "python3"
  },
  "language_info": {
   "codemirror_mode": {
    "name": "ipython",
    "version": 3
   },
   "file_extension": ".py",
   "mimetype": "text/x-python",
   "name": "python",
   "nbconvert_exporter": "python",
   "pygments_lexer": "ipython3",
   "version": "3.10.12"
  }
 },
 "nbformat": 4,
 "nbformat_minor": 5
}
