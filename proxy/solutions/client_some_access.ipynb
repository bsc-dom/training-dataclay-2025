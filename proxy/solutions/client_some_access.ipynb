{
 "cells": [
  {
   "cell_type": "markdown",
   "id": "661b363c",
   "metadata": {},
   "source": [
    "Import the Client and the Person class"
   ]
  },
  {
   "cell_type": "code",
   "execution_count": 1,
   "id": "d97195f0",
   "metadata": {},
   "outputs": [
    {
     "name": "stderr",
     "output_type": "stream",
     "text": [
      "/home/dcanocan/Desktop/Curro/git/curs/training-dataclay-2025/venv-td2025/lib/python3.10/site-packages/pydantic_settings/sources.py:659: UserWarning: directory \"/run/secrets\" does not exist\n",
      "  warnings.warn(f'directory \"{path}\" does not exist')\n"
     ]
    }
   ],
   "source": [
    "from dataclay import Client\n",
    "from dataclay.contrib.modeltest.family import Person"
   ]
  },
  {
   "cell_type": "markdown",
   "id": "73d55ed6",
   "metadata": {},
   "source": [
    "Now let's start the client Alice, who is 39 years old, and get the persisted Person object. "
   ]
  },
  {
   "cell_type": "code",
   "execution_count": 2,
   "id": "c4dc9cde",
   "metadata": {},
   "outputs": [
    {
     "name": "stderr",
     "output_type": "stream",
     "text": [
      "INFO:dataclay.client.api:Starting client runtime\n",
      "INFO:dataclay.client.api:Creating event loop in new thread\n",
      "INFO:dataclay.client.api:Starting client runtime coroutine in event loop\n",
      "INFO:dataclay.client.api:Client runtime started\n",
      "INFO:dataclay.backend.client:SSL not configured\n",
      "INFO:dataclay.backend.client:SSL not configured\n"
     ]
    },
    {
     "name": "stdout",
     "output_type": "stream",
     "text": [
      "Starting event loop in new thread\n"
     ]
    }
   ],
   "source": [
    "client = Client(proxy_host=\"127.0.0.1\", username=\"Alice\", password=\"s3cret\", dataset=\"testdata\")\n",
    "client.start()\n",
    "\n",
    "try:\n",
    "    alice = Person.get_by_alias(\"Alice\")\n",
    "except Exception:\n",
    "    alice = Person(\"Alice\",39)\n",
    "    alice.make_persistent(alias=\"Alice\")"
   ]
  },
  {
   "cell_type": "markdown",
   "id": "85ed9432",
   "metadata": {},
   "source": [
    "In the whitelist, Alice will have access to the functions \"set\" and \"add_year\"\n",
    "\n",
    "Alice is checking the birthdays list, and she spots an error: she is not 39; actually she is still 38! Let's set the correct age."
   ]
  },
  {
   "cell_type": "code",
   "execution_count": 3,
   "id": "0a29d8fc",
   "metadata": {},
   "outputs": [],
   "source": [
    "alice.age = 38"
   ]
  },
  {
   "cell_type": "markdown",
   "id": "99eecc15",
   "metadata": {},
   "source": [
    "Well, actually today's Alice's birthday; let's add a year to her age"
   ]
  },
  {
   "cell_type": "code",
   "execution_count": null,
   "id": "ce34bd49",
   "metadata": {},
   "outputs": [],
   "source": [
    "alice.add_year()"
   ]
  },
  {
   "cell_type": "markdown",
   "id": "27c1e034",
   "metadata": {},
   "source": [
    "## Alice's age\n",
    "\n",
    "Now that we corrected Alice's age, let's check her current age"
   ]
  },
  {
   "cell_type": "code",
   "execution_count": null,
   "id": "e15b9616-7f7f-49f4-b8a5-e77a63c77e1a",
   "metadata": {},
   "outputs": [
    {
     "name": "stdout",
     "output_type": "stream",
     "text": [
      "NO DATA\n",
      "warm(23)\n",
      "warm(20)\n",
      "cold(5)\n",
      "freezing(3)\n",
      "cold(14)\n"
     ]
    }
   ],
   "source": [
    "print(alice.age)"
   ]
  }
 ],
 "metadata": {
  "kernelspec": {
   "display_name": "Python 3 (ipykernel)",
   "language": "python",
   "name": "python3"
  },
  "language_info": {
   "codemirror_mode": {
    "name": "ipython",
    "version": 3
   },
   "file_extension": ".py",
   "mimetype": "text/x-python",
   "name": "python",
   "nbconvert_exporter": "python",
   "pygments_lexer": "ipython3",
   "version": "3.10.12"
  }
 },
 "nbformat": 4,
 "nbformat_minor": 5
}
