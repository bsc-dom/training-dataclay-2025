{
 "cells": [
  {
   "cell_type": "markdown",
   "id": "661b363c",
   "metadata": {},
   "source": [
    "Import the Client and the Person class\n"
   ]
  },
  {
   "cell_type": "code",
   "execution_count": 1,
   "id": "d97195f0",
   "metadata": {},
   "outputs": [
    {
     "name": "stderr",
     "output_type": "stream",
     "text": [
      "/home/dcanocan/Desktop/Curro/git/curs/training-dataclay-2025/venv-td2025/lib/python3.10/site-packages/pydantic_settings/sources.py:659: UserWarning: directory \"/run/secrets\" does not exist\n",
      "  warnings.warn(f'directory \"{path}\" does not exist')\n"
     ]
    }
   ],
   "source": [
    "from dataclay import Client\n",
    "from dataclay.contrib.modeltest.family import Person"
   ]
  },
  {
   "cell_type": "markdown",
   "id": "73d55ed6",
   "metadata": {},
   "source": [
    "Now let's start the client Anna, who is 2 years old, and get the persisted Person object. "
   ]
  },
  {
   "cell_type": "code",
   "execution_count": 2,
   "id": "c4dc9cde",
   "metadata": {},
   "outputs": [
    {
     "name": "stderr",
     "output_type": "stream",
     "text": [
      "INFO:dataclay.client.api:Starting client runtime\n",
      "INFO:dataclay.client.api:Creating event loop in new thread\n",
      "INFO:dataclay.client.api:Starting client runtime coroutine in event loop\n",
      "INFO:dataclay.client.api:Client runtime started\n",
      "INFO:dataclay.backend.client:SSL not configured\n",
      "INFO:dataclay.backend.client:SSL not configured\n"
     ]
    },
    {
     "name": "stdout",
     "output_type": "stream",
     "text": [
      "Starting event loop in new thread\n"
     ]
    }
   ],
   "source": [
    "client = Client(proxy_host=\"127.0.0.1\", username=\"Anna\", password=\"s3cret\", dataset=\"testdata\")\n",
    "client.start()\n",
    "\n",
    "try:\n",
    "    anna = Person.get_by_alias(\"Anna\")\n",
    "except Exception:\n",
    "    anna = Person(\"Anna\",2)\n",
    "    anna.make_persistent(alias=\"Anna\")"
   ]
  },
  {
   "cell_type": "markdown",
   "id": "85ed9432",
   "metadata": {},
   "source": [
    "Anna is the owner and should have access to everything. Look at the middleware.py code and think about what you should add to the proxy_config.py (HINT: Think about what happens when \"if metadata.get('username') != self._user\" returns True)\n",
    "\n",
    "There must be an error; Anna cannot be 2 years old. Change it to 46."
   ]
  },
  {
   "cell_type": "code",
   "execution_count": 3,
   "id": "0a29d8fc",
   "metadata": {},
   "outputs": [],
   "source": [
    "anna.age = 46"
   ]
  },
  {
   "cell_type": "markdown",
   "id": "27c1e034",
   "metadata": {},
   "source": [
    "\n",
    "Somehow today's everybody's birthday! Add a year to Anna's current age "
   ]
  },
  {
   "cell_type": "code",
   "execution_count": null,
   "id": "e15b9616-7f7f-49f4-b8a5-e77a63c77e1a",
   "metadata": {},
   "outputs": [
    {
     "name": "stdout",
     "output_type": "stream",
     "text": [
      "NO DATA\n",
      "warm(23)\n",
      "warm(20)\n",
      "cold(5)\n",
      "freezing(3)\n",
      "cold(14)\n"
     ]
    }
   ],
   "source": [
    "anna.add_year()"
   ]
  },
  {
   "cell_type": "markdown",
   "id": "8e4d6ab1",
   "metadata": {},
   "source": [
    "## Anna's age\n",
    "\n",
    "Let's see if Anna's age is finally correct "
   ]
  },
  {
   "cell_type": "code",
   "execution_count": null,
   "id": "62066a5a",
   "metadata": {},
   "outputs": [],
   "source": [
    "print(anna.age)"
   ]
  }
 ],
 "metadata": {
  "kernelspec": {
   "display_name": "Python 3 (ipykernel)",
   "language": "python",
   "name": "python3"
  },
  "language_info": {
   "codemirror_mode": {
    "name": "ipython",
    "version": 3
   },
   "file_extension": ".py",
   "mimetype": "text/x-python",
   "name": "python",
   "nbconvert_exporter": "python",
   "pygments_lexer": "ipython3",
   "version": "3.10.12"
  }
 },
 "nbformat": 4,
 "nbformat_minor": 5
}
