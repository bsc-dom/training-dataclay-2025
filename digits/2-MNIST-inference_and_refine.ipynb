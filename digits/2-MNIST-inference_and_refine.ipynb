{
 "cells": [
  {
   "cell_type": "markdown",
   "id": "6ec67f29",
   "metadata": {},
   "source": [
    "# Model inference\n",
    "\n",
    "Now it's time to check how our model works.\n",
    "\n",
    "We have some images of handwritten digits in [custom-data](custom-data/)\n",
    "\n",
    "Let's see which numbers we have (you could also add some numbers you find)"
   ]
  },
  {
   "cell_type": "code",
   "execution_count": null,
   "id": "e246bf1b",
   "metadata": {},
   "outputs": [],
   "source": [
    "from IPython.display import Image, display\n",
    "\n",
    "for i in range(7):\n",
    "    display(Image(filename=\"custom-data/digit%02d.png\" % i))"
   ]
  },
  {
   "cell_type": "markdown",
   "id": "0f9e7aa3",
   "metadata": {},
   "source": [
    "# Time to check how great our model is\n",
    "\n",
    "We will be using the previously generated MNIST classes.\n",
    "\n",
    "First of all, we will have to create a dataClay client and start it."
   ]
  },
  {
   "cell_type": "code",
   "execution_count": null,
   "id": "e3090303",
   "metadata": {},
   "outputs": [],
   "source": [
    "..."
   ]
  },
  {
   "cell_type": "markdown",
   "id": "c8accdb5",
   "metadata": {},
   "source": [
    "## Using the `dry_run` model (bad!)\n",
    "\n",
    "Now we will check the first model.\n",
    "\n",
    "First we have to get the object we had persisted in dataClay with the alias you chose (the one we used was \"FastMNIST\")"
   ]
  },
  {
   "cell_type": "code",
   "execution_count": null,
   "id": "ea1fa457",
   "metadata": {},
   "outputs": [],
   "source": [
    "mnist = ..."
   ]
  },
  {
   "cell_type": "markdown",
   "id": "a1506c7d",
   "metadata": {},
   "source": [
    "Let's collect all the handwritten digits into a list. After that we can infere and see what our \"bad\" model guessed."
   ]
  },
  {
   "cell_type": "code",
   "execution_count": null,
   "id": "1647c6d6",
   "metadata": {},
   "outputs": [],
   "source": [
    "from PIL import Image\n",
    "\n",
    "images = [Image.open(\"./custom-data/digit%02d.png\" % i).convert('1') for i in range(7)]\n",
    "\n",
    "labels, tensors = ...\n",
    "labels"
   ]
  },
  {
   "cell_type": "markdown",
   "id": "f959e3bc",
   "metadata": {},
   "source": [
    "## Using the full model (better!)\n",
    "\n",
    "Now let's do the same but with the better model."
   ]
  },
  {
   "cell_type": "code",
   "execution_count": null,
   "id": "00b1973c",
   "metadata": {},
   "outputs": [],
   "source": [
    "mnist = ...\n",
    "labels, tensors = ...\n",
    "labels"
   ]
  },
  {
   "cell_type": "markdown",
   "id": "107dc180",
   "metadata": {},
   "source": [
    "## Refining the full model\n",
    "\n",
    "The model can be refined by running more epochs. Try to run a few more epochs and see how the accuracy changes.\n",
    "\n",
    "All data remains in dataClay and there are no data transfers here. Neat, isn't it?"
   ]
  },
  {
   "cell_type": "code",
   "execution_count": null,
   "id": "51b351da",
   "metadata": {},
   "outputs": [],
   "source": [
    "..."
   ]
  },
  {
   "cell_type": "markdown",
   "id": "1cce2173",
   "metadata": {},
   "source": [
    "And now let's check the result."
   ]
  },
  {
   "cell_type": "code",
   "execution_count": null,
   "id": "9af6b89f",
   "metadata": {},
   "outputs": [],
   "source": [
    "labels, tensors = ...\n",
    "labels"
   ]
  },
  {
   "cell_type": "code",
   "execution_count": null,
   "id": "cb16b28f",
   "metadata": {},
   "outputs": [],
   "source": []
  }
 ],
 "metadata": {
  "kernelspec": {
   "display_name": "Python 3 (ipykernel)",
   "language": "python",
   "name": "python3"
  },
  "language_info": {
   "codemirror_mode": {
    "name": "ipython",
    "version": 3
   },
   "file_extension": ".py",
   "mimetype": "text/x-python",
   "name": "python",
   "nbconvert_exporter": "python",
   "pygments_lexer": "ipython3",
   "version": "3.10.12"
  }
 },
 "nbformat": 4,
 "nbformat_minor": 5
}
