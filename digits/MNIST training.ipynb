{
 "cells": [
  {
   "cell_type": "markdown",
   "id": "430b756b",
   "metadata": {},
   "source": [
    "# Model training\n",
    "\n",
    "In order to train our model we will have to:\n",
    "\n",
    "- Import our model."
   ]
  },
  {
   "cell_type": "code",
   "execution_count": 1,
   "id": "07cc229f",
   "metadata": {},
   "outputs": [
    {
     "name": "stderr",
     "output_type": "stream",
     "text": [
      "/home/dcanocan/Desktop/Curro/git/curs/training-dataclay-2025/venv-td2025/lib/python3.10/site-packages/pydantic_settings/sources.py:659: UserWarning: directory \"/run/secrets\" does not exist\n",
      "  warnings.warn(f'directory \"{path}\" does not exist')\n"
     ]
    }
   ],
   "source": [
    "from digitsModel.dc_classes import MNIST"
   ]
  },
  {
   "cell_type": "markdown",
   "id": "63e75a47",
   "metadata": {},
   "source": [
    "- Import, create and start a dataClay Client."
   ]
  },
  {
   "cell_type": "code",
   "execution_count": 2,
   "id": "59f8ed6d",
   "metadata": {},
   "outputs": [
    {
     "name": "stderr",
     "output_type": "stream",
     "text": [
      "INFO:dataclay.client.api:Starting client runtime\n",
      "INFO:dataclay.client.api:Creating event loop in new thread\n",
      "INFO:dataclay.client.api:Starting client runtime coroutine in event loop\n",
      "INFO:dataclay.client.api:Client runtime started\n"
     ]
    },
    {
     "name": "stdout",
     "output_type": "stream",
     "text": [
      "Starting event loop in new thread\n"
     ]
    },
    {
     "name": "stderr",
     "output_type": "stream",
     "text": [
      "INFO:dataclay.backend.client:SSL not configured\n"
     ]
    }
   ],
   "source": [
    "from dataclay import Client\n",
    "\n",
    "client = Client(host=\"127.0.0.1\", username=\"testuser\", password=\"s3cret\", dataset=\"testdata\")\n",
    "client.start()\n"
   ]
  },
  {
   "cell_type": "markdown",
   "id": "a52e8212",
   "metadata": {},
   "source": [
    "# Let's train it in the fastest way\n",
    "\n",
    "In order to train the model:\n",
    "- First we have to create an instance of our class model.\n",
    "- Make our instance persistent (NOTE: the alias we use in the solution is \"FastMNIST\")\n",
    "- Prepare the model.\n",
    "- Train it in the fast way (HINT: check the [MNIST](digitsModel/dc_classes.py) code to see in the training process which variable exits the code)\n",
    "Before running the code put the number of iterations between 4-6."
   ]
  },
  {
   "cell_type": "code",
   "execution_count": 3,
   "id": "9b599ca6",
   "metadata": {},
   "outputs": [
    {
     "name": "stdout",
     "output_type": "stream",
     "text": [
      "Starting epoch 1\n",
      "Train returned loss=2.296641\n",
      "Test returned accuracy=10.71\n",
      "Starting epoch 2\n",
      "Train returned loss=2.396033\n",
      "Test returned accuracy=21.54\n",
      "Starting epoch 3\n",
      "Train returned loss=2.127323\n",
      "Test returned accuracy=44.21\n",
      "Starting epoch 4\n",
      "Train returned loss=1.815853\n",
      "Test returned accuracy=46.48\n",
      "Starting epoch 5\n",
      "Train returned loss=1.519822\n",
      "Test returned accuracy=52.10\n"
     ]
    }
   ],
   "source": [
    "mnist_fast = MNIST()\n",
    "\n",
    "\n",
    "###################################\n",
    "MNIST.delete_alias(\"FastMNIST\")  # Just for debugging purposes\n",
    "###################################\n",
    "\n",
    "mnist_fast. ...\n"
   ]
  },
  {
   "cell_type": "markdown",
   "id": "9823d232",
   "metadata": {},
   "source": [
    "# Let's train it in the better way\n",
    "\n",
    "We will do the same as before, changing the persistency alias, but training it in the best way instead of the fast way (NOTE: the alias we use in the solution is \"MyTrainedMNIST\")\n",
    "Before running the code, put the number of iterations between 2-3."
   ]
  },
  {
   "cell_type": "code",
   "execution_count": 4,
   "id": "f1e0c063",
   "metadata": {},
   "outputs": [
    {
     "name": "stdout",
     "output_type": "stream",
     "text": [
      "Starting epoch 1\n",
      "Train returned loss=0.011564\n",
      "Test returned accuracy=98.51\n",
      "Starting epoch 2\n",
      "Train returned loss=0.020116\n",
      "Test returned accuracy=98.84\n"
     ]
    }
   ],
   "source": [
    "mnist = MNIST()\n",
    "\n",
    "########################################\n",
    "MNIST.delete_alias(\"MyTrainedMNIST\")  # Just for debugging purposes\n",
    "########################################\n",
    "\n",
    "mnist. ...\n"
   ]
  },
  {
   "cell_type": "code",
   "execution_count": null,
   "id": "c2e66124",
   "metadata": {},
   "outputs": [],
   "source": []
  }
 ],
 "metadata": {
  "kernelspec": {
   "display_name": "Python 3 (ipykernel)",
   "language": "python",
   "name": "python3"
  },
  "language_info": {
   "codemirror_mode": {
    "name": "ipython",
    "version": 3
   },
   "file_extension": ".py",
   "mimetype": "text/x-python",
   "name": "python",
   "nbconvert_exporter": "python",
   "pygments_lexer": "ipython3",
   "version": "3.10.12"
  }
 },
 "nbformat": 4,
 "nbformat_minor": 5
}
