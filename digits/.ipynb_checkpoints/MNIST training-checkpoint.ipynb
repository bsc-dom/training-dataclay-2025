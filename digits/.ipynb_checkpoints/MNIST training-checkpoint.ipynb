{
 "cells": [
  {
   "cell_type": "markdown",
   "id": "430b756b",
   "metadata": {},
   "source": [
    "# Demo of MNIST with dataClay & PyTorch"
   ]
  },
  {
   "cell_type": "code",
   "execution_count": 1,
   "id": "07cc229f",
   "metadata": {},
   "outputs": [
    {
     "name": "stderr",
     "output_type": "stream",
     "text": [
      "/home/dcanocan/Desktop/Curro/git/curs/training-dataclay-2025/venv-td2025/lib/python3.10/site-packages/pydantic_settings/sources.py:659: UserWarning: directory \"/run/secrets\" does not exist\n",
      "  warnings.warn(f'directory \"{path}\" does not exist')\n"
     ]
    }
   ],
   "source": [
    "from digitsModel.dc_classes import MNIST"
   ]
  },
  {
   "cell_type": "code",
   "execution_count": 2,
   "id": "59f8ed6d",
   "metadata": {},
   "outputs": [
    {
     "name": "stderr",
     "output_type": "stream",
     "text": [
      "INFO:dataclay.client.api:Starting client runtime\n",
      "INFO:dataclay.client.api:Creating event loop in new thread\n",
      "INFO:dataclay.client.api:Starting client runtime coroutine in event loop\n",
      "INFO:dataclay.client.api:Client runtime started\n",
      "INFO:dataclay.backend.client:SSL not configured\n"
     ]
    },
    {
     "name": "stdout",
     "output_type": "stream",
     "text": [
      "Starting event loop in new thread\n"
     ]
    }
   ],
   "source": [
    "from dataclay import Client\n",
    "\n",
    "client = Client(host=\"127.0.0.1\", username=\"testuser\", password=\"s3cret\", dataset=\"testdata\")\n",
    "client.start()\n"
   ]
  },
  {
   "cell_type": "code",
   "execution_count": 3,
   "id": "9b599ca6",
   "metadata": {},
   "outputs": [
    {
     "ename": "DataClayException",
     "evalue": "No module named 'torch'",
     "output_type": "error",
     "traceback": [
      "\u001b[0;31m---------------------------------------------------------------------------\u001b[0m",
      "\u001b[0;31mDataClayException\u001b[0m                         Traceback (most recent call last)",
      "Cell \u001b[0;32mIn[3], line 8\u001b[0m\n\u001b[1;32m      5\u001b[0m MNIST\u001b[38;5;241m.\u001b[39mdelete_alias(\u001b[38;5;124m\"\u001b[39m\u001b[38;5;124mFastMNIST\u001b[39m\u001b[38;5;124m\"\u001b[39m)  \u001b[38;5;66;03m# Just for debugging purposes\u001b[39;00m\n\u001b[1;32m      6\u001b[0m \u001b[38;5;66;03m###################################\u001b[39;00m\n\u001b[0;32m----> 8\u001b[0m \u001b[43mmnist_fast\u001b[49m\u001b[38;5;241;43m.\u001b[39;49m\u001b[43mmake_persistent\u001b[49m\u001b[43m(\u001b[49m\u001b[43malias\u001b[49m\u001b[38;5;241;43m=\u001b[39;49m\u001b[38;5;124;43m\"\u001b[39;49m\u001b[38;5;124;43mFastMNIST\u001b[39;49m\u001b[38;5;124;43m\"\u001b[39;49m\u001b[43m)\u001b[49m\n\u001b[1;32m      9\u001b[0m mnist_fast\u001b[38;5;241m.\u001b[39mprepare()\n\u001b[1;32m     10\u001b[0m mnist_fast\u001b[38;5;241m.\u001b[39mrun_epochs(\u001b[38;5;241m5\u001b[39m, dry_run\u001b[38;5;241m=\u001b[39m\u001b[38;5;28;01mTrue\u001b[39;00m)\n",
      "File \u001b[0;32m~/Desktop/Curro/git/curs/training-dataclay-2025/venv-td2025/lib/python3.10/site-packages/dataclay/dataclay_object.py:441\u001b[0m, in \u001b[0;36mDataClayObject.make_persistent\u001b[0;34m(self, alias, backend_id)\u001b[0m\n\u001b[1;32m    430\u001b[0m \u001b[38;5;250m\u001b[39m\u001b[38;5;124;03m\"\"\"Makes the object persistent.\u001b[39;00m\n\u001b[1;32m    431\u001b[0m \n\u001b[1;32m    432\u001b[0m \u001b[38;5;124;03m:param alias: Alias of the object. If None, the object will not have an alias.\u001b[39;00m\n\u001b[0;32m   (...)\u001b[0m\n\u001b[1;32m    436\u001b[0m \u001b[38;5;124;03m:raises: KeyError: If the backend_id is not registered in dataClay.\u001b[39;00m\n\u001b[1;32m    437\u001b[0m \u001b[38;5;124;03m\"\"\"\u001b[39;00m\n\u001b[1;32m    438\u001b[0m future \u001b[38;5;241m=\u001b[39m asyncio\u001b[38;5;241m.\u001b[39mrun_coroutine_threadsafe(\n\u001b[1;32m    439\u001b[0m     \u001b[38;5;28mself\u001b[39m\u001b[38;5;241m.\u001b[39m_make_persistent(alias, backend_id), get_dc_event_loop()\n\u001b[1;32m    440\u001b[0m )\n\u001b[0;32m--> 441\u001b[0m \u001b[38;5;28;01mreturn\u001b[39;00m \u001b[43mfuture\u001b[49m\u001b[38;5;241;43m.\u001b[39;49m\u001b[43mresult\u001b[49m\u001b[43m(\u001b[49m\u001b[43m)\u001b[49m\n",
      "File \u001b[0;32m/usr/lib/python3.10/concurrent/futures/_base.py:458\u001b[0m, in \u001b[0;36mFuture.result\u001b[0;34m(self, timeout)\u001b[0m\n\u001b[1;32m    456\u001b[0m     \u001b[38;5;28;01mraise\u001b[39;00m CancelledError()\n\u001b[1;32m    457\u001b[0m \u001b[38;5;28;01melif\u001b[39;00m \u001b[38;5;28mself\u001b[39m\u001b[38;5;241m.\u001b[39m_state \u001b[38;5;241m==\u001b[39m FINISHED:\n\u001b[0;32m--> 458\u001b[0m     \u001b[38;5;28;01mreturn\u001b[39;00m \u001b[38;5;28;43mself\u001b[39;49m\u001b[38;5;241;43m.\u001b[39;49m\u001b[43m__get_result\u001b[49m\u001b[43m(\u001b[49m\u001b[43m)\u001b[49m\n\u001b[1;32m    459\u001b[0m \u001b[38;5;28;01melse\u001b[39;00m:\n\u001b[1;32m    460\u001b[0m     \u001b[38;5;28;01mraise\u001b[39;00m \u001b[38;5;167;01mTimeoutError\u001b[39;00m()\n",
      "File \u001b[0;32m/usr/lib/python3.10/concurrent/futures/_base.py:403\u001b[0m, in \u001b[0;36mFuture.__get_result\u001b[0;34m(self)\u001b[0m\n\u001b[1;32m    401\u001b[0m \u001b[38;5;28;01mif\u001b[39;00m \u001b[38;5;28mself\u001b[39m\u001b[38;5;241m.\u001b[39m_exception:\n\u001b[1;32m    402\u001b[0m     \u001b[38;5;28;01mtry\u001b[39;00m:\n\u001b[0;32m--> 403\u001b[0m         \u001b[38;5;28;01mraise\u001b[39;00m \u001b[38;5;28mself\u001b[39m\u001b[38;5;241m.\u001b[39m_exception\n\u001b[1;32m    404\u001b[0m     \u001b[38;5;28;01mfinally\u001b[39;00m:\n\u001b[1;32m    405\u001b[0m         \u001b[38;5;66;03m# Break a reference cycle with the exception in self._exception\u001b[39;00m\n\u001b[1;32m    406\u001b[0m         \u001b[38;5;28mself\u001b[39m \u001b[38;5;241m=\u001b[39m \u001b[38;5;28;01mNone\u001b[39;00m\n",
      "File \u001b[0;32m~/Desktop/Curro/git/curs/training-dataclay-2025/venv-td2025/lib/python3.10/site-packages/opentelemetry/util/_decorator.py:69\u001b[0m, in \u001b[0;36m_AgnosticContextManager.__call__.<locals>.async_wrapper\u001b[0;34m(*args, **kwargs)\u001b[0m\n\u001b[1;32m     66\u001b[0m \u001b[38;5;129m@functools\u001b[39m\u001b[38;5;241m.\u001b[39mwraps(func)  \u001b[38;5;66;03m# type: ignore\u001b[39;00m\n\u001b[1;32m     67\u001b[0m \u001b[38;5;28;01masync\u001b[39;00m \u001b[38;5;28;01mdef\u001b[39;00m\u001b[38;5;250m \u001b[39m\u001b[38;5;21masync_wrapper\u001b[39m(\u001b[38;5;241m*\u001b[39margs: Pargs, \u001b[38;5;241m*\u001b[39m\u001b[38;5;241m*\u001b[39mkwargs: Pkwargs) \u001b[38;5;241m-\u001b[39m\u001b[38;5;241m>\u001b[39m R:\n\u001b[1;32m     68\u001b[0m     \u001b[38;5;28;01mwith\u001b[39;00m \u001b[38;5;28mself\u001b[39m\u001b[38;5;241m.\u001b[39m_recreate_cm():  \u001b[38;5;66;03m# type: ignore\u001b[39;00m\n\u001b[0;32m---> 69\u001b[0m         \u001b[38;5;28;01mreturn\u001b[39;00m \u001b[38;5;28;01mawait\u001b[39;00m func(\u001b[38;5;241m*\u001b[39margs, \u001b[38;5;241m*\u001b[39m\u001b[38;5;241m*\u001b[39mkwargs)\n",
      "File \u001b[0;32m~/Desktop/Curro/git/curs/training-dataclay-2025/venv-td2025/lib/python3.10/site-packages/dataclay/dataclay_object.py:418\u001b[0m, in \u001b[0;36mDataClayObject._make_persistent\u001b[0;34m(self, alias, backend_id)\u001b[0m\n\u001b[1;32m    416\u001b[0m         \u001b[38;5;28;01mawait\u001b[39;00m \u001b[38;5;28mself\u001b[39m\u001b[38;5;241m.\u001b[39ma_add_alias(alias)\n\u001b[1;32m    417\u001b[0m \u001b[38;5;28;01melse\u001b[39;00m:\n\u001b[0;32m--> 418\u001b[0m     \u001b[38;5;28;01mawait\u001b[39;00m get_runtime()\u001b[38;5;241m.\u001b[39mmake_persistent(\u001b[38;5;28mself\u001b[39m, alias\u001b[38;5;241m=\u001b[39malias, backend_id\u001b[38;5;241m=\u001b[39mbackend_id)\n",
      "File \u001b[0;32m~/Desktop/Curro/git/curs/training-dataclay-2025/venv-td2025/lib/python3.10/site-packages/dataclay/runtime.py:160\u001b[0m, in \u001b[0;36mDataClayRuntime.make_persistent\u001b[0;34m(self, instance, alias, backend_id)\u001b[0m\n\u001b[1;32m    156\u001b[0m serialized_objects \u001b[38;5;241m=\u001b[39m \u001b[38;5;28;01mawait\u001b[39;00m recursive_dcdumps(\n\u001b[1;32m    157\u001b[0m     instance, local_objects\u001b[38;5;241m=\u001b[39mvisited_objects, make_persistent\u001b[38;5;241m=\u001b[39m\u001b[38;5;28;01mTrue\u001b[39;00m\n\u001b[1;32m    158\u001b[0m )\n\u001b[1;32m    159\u001b[0m \u001b[38;5;66;03m# Register the object in the backend\u001b[39;00m\n\u001b[0;32m--> 160\u001b[0m \u001b[38;5;28;01mawait\u001b[39;00m backend_client\u001b[38;5;241m.\u001b[39mmake_persistent(serialized_objects)\n\u001b[1;32m    162\u001b[0m \u001b[38;5;66;03m# Update the object metadata\u001b[39;00m\n\u001b[1;32m    163\u001b[0m \u001b[38;5;28;01mfor\u001b[39;00m dc_object \u001b[38;5;129;01min\u001b[39;00m visited_objects\u001b[38;5;241m.\u001b[39mvalues():\n",
      "File \u001b[0;32m~/Desktop/Curro/git/curs/training-dataclay-2025/venv-td2025/lib/python3.10/site-packages/dataclay/utils/decorators.py:44\u001b[0m, in \u001b[0;36mgrpc_aio_error_handler.<locals>.wrapper\u001b[0;34m(*args, **kwargs)\u001b[0m\n\u001b[1;32m     40\u001b[0m         \u001b[38;5;28;01mraise\u001b[39;00m AlreadyExistError(\n\u001b[1;32m     41\u001b[0m             rpc_error\u001b[38;5;241m.\u001b[39mdetails()\u001b[38;5;241m.\u001b[39mreplace(\u001b[38;5;124m\"\u001b[39m\u001b[38;5;124m already exists\u001b[39m\u001b[38;5;124m\"\u001b[39m, \u001b[38;5;124m\"\u001b[39m\u001b[38;5;124m\"\u001b[39m)\n\u001b[1;32m     42\u001b[0m         ) \u001b[38;5;28;01mfrom\u001b[39;00m\u001b[38;5;250m \u001b[39m\u001b[38;5;28;01mNone\u001b[39;00m\n\u001b[1;32m     43\u001b[0m \u001b[38;5;28;01melse\u001b[39;00m:\n\u001b[0;32m---> 44\u001b[0m     \u001b[38;5;28;01mraise\u001b[39;00m DataClayException(rpc_error\u001b[38;5;241m.\u001b[39mdetails()) \u001b[38;5;28;01mfrom\u001b[39;00m\u001b[38;5;250m \u001b[39m\u001b[38;5;28;01mNone\u001b[39;00m\n",
      "\u001b[0;31mDataClayException\u001b[0m: No module named 'digitsModel'"
     ]
    }
   ],
   "source": [
    "mnist_fast = MNIST()\n",
    "\n",
    "\n",
    "###################################\n",
    "MNIST.delete_alias(\"FastMNIST\")  # Just for debugging purposes\n",
    "###################################\n",
    "\n",
    "mnist_fast.make_persistent(alias=\"FastMNIST\")\n",
    "mnist_fast.prepare()\n",
    "mnist_fast.run_epochs(5, dry_run=True)"
   ]
  },
  {
   "cell_type": "code",
   "execution_count": null,
   "id": "f1e0c063",
   "metadata": {},
   "outputs": [],
   "source": [
    "mnist = MNIST()\n",
    "\n",
    "########################################\n",
    "MNIST.delete_alias(\"MyTrainedMNIST\")  # Just for debugging purposes\n",
    "########################################\n",
    "\n",
    "mnist.make_persistent(alias=\"MyTrainedMNIST\")\n",
    "mnist.prepare()\n",
    "mnist.run_epochs(2, dry_run=False)"
   ]
  },
  {
   "cell_type": "code",
   "execution_count": null,
   "id": "c2e66124",
   "metadata": {},
   "outputs": [],
   "source": []
  }
 ],
 "metadata": {
  "kernelspec": {
   "display_name": "Python 3 (ipykernel)",
   "language": "python",
   "name": "python3"
  },
  "language_info": {
   "codemirror_mode": {
    "name": "ipython",
    "version": 3
   },
   "file_extension": ".py",
   "mimetype": "text/x-python",
   "name": "python",
   "nbconvert_exporter": "python",
   "pygments_lexer": "ipython3",
   "version": "3.10.12"
  }
 },
 "nbformat": 4,
 "nbformat_minor": 5
}
