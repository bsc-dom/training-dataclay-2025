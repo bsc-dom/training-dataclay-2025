{
 "cells": [
  {
   "cell_type": "markdown",
   "id": "430b756b",
   "metadata": {},
   "source": [
    "# Model training\n",
    "\n",
    "In order to train our model we will have to:\n",
    "\n",
    "- Import our model."
   ]
  },
  {
   "cell_type": "code",
   "execution_count": 1,
   "id": "07cc229f",
   "metadata": {},
   "outputs": [
    {
     "name": "stderr",
     "output_type": "stream",
     "text": [
      "/home/alex/BSC/training-dataclay-2025/venv/lib/python3.10/site-packages/pydantic_settings/sources.py:659: UserWarning: directory \"/run/secrets\" does not exist\n",
      "  warnings.warn(f'directory \"{path}\" does not exist')\n"
     ]
    }
   ],
   "source": [
    "from digits_model.dc_classes import MNIST"
   ]
  },
  {
   "cell_type": "markdown",
   "id": "63e75a47",
   "metadata": {},
   "source": [
    "- Import, create and start a dataClay Client."
   ]
  },
  {
   "cell_type": "code",
   "execution_count": 2,
   "id": "59f8ed6d",
   "metadata": {},
   "outputs": [
    {
     "name": "stderr",
     "output_type": "stream",
     "text": [
      "INFO:dataclay.client.api:Starting client runtime\n",
      "INFO:dataclay.client.api:Creating event loop in new thread\n",
      "INFO:dataclay.client.api:Starting client runtime coroutine in event loop\n",
      "INFO:dataclay.client.api:Client runtime started\n"
     ]
    },
    {
     "name": "stdout",
     "output_type": "stream",
     "text": [
      "Starting event loop in new thread\n"
     ]
    },
    {
     "name": "stderr",
     "output_type": "stream",
     "text": [
      "INFO:dataclay.backend.client:SSL not configured\n"
     ]
    }
   ],
   "source": [
    "from dataclay import Client\n",
    "\n",
    "client = Client(proxy_host=\"127.0.0.1\")\n",
    "client.start()\n"
   ]
  },
  {
   "cell_type": "markdown",
   "id": "a52e8212",
   "metadata": {},
   "source": [
    "# Dry-run train (fast test)\n",
    "\n",
    "In order to train the model:\n",
    "- First we have to create an instance of our class model.\n",
    "- Make our instance persistent with an alias (e.g. \"FastMNIST\")\n",
    "- Prepare the model.\n",
    "- Perform a \"dry-run\" training, which will should be quite fast. Run it for 4-6 epochs.\n",
    "\n",
    "Check the [MNIST](digits_model/dc_classes.py) class to see which methods can be used and what is their purpose."
   ]
  },
  {
   "cell_type": "code",
   "execution_count": 3,
   "id": "9b599ca6",
   "metadata": {},
   "outputs": [
    {
     "name": "stdout",
     "output_type": "stream",
     "text": [
      "Starting epoch 1\n",
      "Train returned loss=2.302082\n",
      "Test returned accuracy=15.64\n",
      "Starting epoch 2\n",
      "Train returned loss=2.130767\n",
      "Test returned accuracy=28.60\n",
      "Starting epoch 3\n",
      "Train returned loss=1.997183\n",
      "Test returned accuracy=51.18\n",
      "Starting epoch 4\n",
      "Train returned loss=1.664887\n",
      "Test returned accuracy=46.72\n",
      "Starting epoch 5\n",
      "Train returned loss=1.373158\n",
      "Test returned accuracy=54.12\n"
     ]
    }
   ],
   "source": [
    "mnist_fast = MNIST()\n",
    "\n",
    "# ****************************\n",
    "# Solution\n",
    "# ****************************\n",
    "mnist_fast.make_persistent(alias=\"FastMNIST\")\n",
    "mnist_fast.prepare()\n",
    "mnist_fast.run_epochs(5, dry_run=True)\n",
    "# ****************************"
   ]
  },
  {
   "cell_type": "markdown",
   "id": "9823d232",
   "metadata": {},
   "source": [
    "# Real train\n",
    "\n",
    "We will do the same as before, changing the persistency alias, but training it the _proper_ way. (NOTE: we will be using the alias \"MyTrainedMNIST\" in these examples)\n",
    "\n",
    "Given that this training is much slower, use a smaller number of epochs, e.g. 2 or 3."
   ]
  },
  {
   "cell_type": "code",
   "execution_count": 4,
   "id": "f1e0c063",
   "metadata": {},
   "outputs": [
    {
     "name": "stdout",
     "output_type": "stream",
     "text": [
      "Starting epoch 1\n",
      "Train returned loss=0.114194\n",
      "Test returned accuracy=98.43\n",
      "Starting epoch 2\n",
      "Train returned loss=0.022127\n",
      "Test returned accuracy=98.63\n"
     ]
    }
   ],
   "source": [
    "mnist = MNIST()\n",
    "\n",
    "# ****************************\n",
    "# Solution\n",
    "# ****************************\n",
    "mnist.make_persistent(alias=\"MyTrainedMNIST\")\n",
    "mnist.prepare()\n",
    "mnist.run_epochs(2, dry_run=False)\n",
    "# ****************************"
   ]
  },
  {
   "cell_type": "code",
   "execution_count": null,
   "id": "03410f35-4608-4c92-ba73-9072b6317218",
   "metadata": {},
   "outputs": [],
   "source": []
  }
 ],
 "metadata": {
  "kernelspec": {
   "display_name": "Python 3 (ipykernel)",
   "language": "python",
   "name": "python3"
  },
  "language_info": {
   "codemirror_mode": {
    "name": "ipython",
    "version": 3
   },
   "file_extension": ".py",
   "mimetype": "text/x-python",
   "name": "python",
   "nbconvert_exporter": "python",
   "pygments_lexer": "ipython3",
   "version": "3.10.12"
  }
 },
 "nbformat": 4,
 "nbformat_minor": 5
}
