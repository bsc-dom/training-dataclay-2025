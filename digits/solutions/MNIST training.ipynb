{
 "cells": [
  {
   "cell_type": "markdown",
   "id": "430b756b",
   "metadata": {},
   "source": [
    "# Demo of MNIST with dataClay & PyTorch"
   ]
  },
  {
   "cell_type": "code",
   "execution_count": 1,
   "id": "07cc229f",
   "metadata": {},
   "outputs": [
    {
     "name": "stderr",
     "output_type": "stream",
     "text": [
      "/home/dcanocan/Desktop/Curro/git/curs/training-dataclay-2025/venv-td2025/lib/python3.10/site-packages/pydantic_settings/sources.py:659: UserWarning: directory \"/run/secrets\" does not exist\n",
      "  warnings.warn(f'directory \"{path}\" does not exist')\n"
     ]
    }
   ],
   "source": [
    "from digitsModel.dc_classes import MNIST"
   ]
  },
  {
   "cell_type": "code",
   "execution_count": 2,
   "id": "59f8ed6d",
   "metadata": {},
   "outputs": [
    {
     "name": "stderr",
     "output_type": "stream",
     "text": [
      "INFO:dataclay.client.api:Starting client runtime\n",
      "INFO:dataclay.client.api:Creating event loop in new thread\n",
      "INFO:dataclay.client.api:Starting client runtime coroutine in event loop\n",
      "INFO:dataclay.client.api:Client runtime started\n"
     ]
    },
    {
     "name": "stdout",
     "output_type": "stream",
     "text": [
      "Starting event loop in new thread\n"
     ]
    },
    {
     "name": "stderr",
     "output_type": "stream",
     "text": [
      "INFO:dataclay.backend.client:SSL not configured\n"
     ]
    }
   ],
   "source": [
    "from dataclay import Client\n",
    "\n",
    "client = Client(host=\"127.0.0.1\", username=\"testuser\", password=\"s3cret\", dataset=\"testdata\")\n",
    "client.start()\n"
   ]
  },
  {
   "cell_type": "code",
   "execution_count": 3,
   "id": "9b599ca6",
   "metadata": {},
   "outputs": [
    {
     "name": "stdout",
     "output_type": "stream",
     "text": [
      "Starting epoch 1\n",
      "Train returned loss=2.297833\n",
      "Test returned accuracy=29.04\n",
      "Starting epoch 2\n",
      "Train returned loss=2.137851\n",
      "Test returned accuracy=16.71\n",
      "Starting epoch 3\n",
      "Train returned loss=2.120293\n",
      "Test returned accuracy=55.83\n",
      "Starting epoch 4\n",
      "Train returned loss=1.793823\n",
      "Test returned accuracy=54.15\n",
      "Starting epoch 5\n",
      "Train returned loss=1.336383\n",
      "Test returned accuracy=55.08\n"
     ]
    }
   ],
   "source": [
    "mnist_fast = MNIST()\n",
    "\n",
    "\n",
    "###################################\n",
    "MNIST.delete_alias(\"FastMNIST\")  # Just for debugging purposes\n",
    "###################################\n",
    "\n",
    "# ****************************\n",
    "# Solution\n",
    "# ****************************\n",
    "mnist_fast.make_persistent(alias=\"FastMNIST\")\n",
    "mnist_fast.prepare()\n",
    "mnist_fast.run_epochs(5, dry_run=True)\n",
    "# ****************************"
   ]
  },
  {
   "cell_type": "code",
   "execution_count": 4,
   "id": "f1e0c063",
   "metadata": {},
   "outputs": [
    {
     "name": "stdout",
     "output_type": "stream",
     "text": [
      "Starting epoch 1\n",
      "Train returned loss=0.017847\n",
      "Test returned accuracy=98.47\n",
      "Starting epoch 2\n",
      "Train returned loss=0.009840\n",
      "Test returned accuracy=98.78\n"
     ]
    }
   ],
   "source": [
    "mnist = MNIST()\n",
    "\n",
    "########################################\n",
    "MNIST.delete_alias(\"MyTrainedMNIST\")  # Just for debugging purposes\n",
    "########################################\n",
    "\n",
    "# ****************************\n",
    "# Solution\n",
    "# ****************************\n",
    "mnist.make_persistent(alias=\"MyTrainedMNIST\")\n",
    "mnist.prepare()\n",
    "mnist.run_epochs(2, dry_run=False)\n",
    "# ****************************\n"
   ]
  },
  {
   "cell_type": "code",
   "execution_count": null,
   "id": "c2e66124",
   "metadata": {},
   "outputs": [],
   "source": []
  }
 ],
 "metadata": {
  "kernelspec": {
   "display_name": "Python 3 (ipykernel)",
   "language": "python",
   "name": "python3"
  },
  "language_info": {
   "codemirror_mode": {
    "name": "ipython",
    "version": 3
   },
   "file_extension": ".py",
   "mimetype": "text/x-python",
   "name": "python",
   "nbconvert_exporter": "python",
   "pygments_lexer": "ipython3",
   "version": "3.10.12"
  }
 },
 "nbformat": 4,
 "nbformat_minor": 5
}
