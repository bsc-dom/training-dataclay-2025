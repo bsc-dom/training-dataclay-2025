{
 "cells": [
  {
   "cell_type": "markdown",
   "id": "661b363c",
   "metadata": {},
   "source": [
    "# Model inference\n",
    "\n",
    "Now it's time to check how our model works.\n",
    "\n",
    "We have some images of handwritten digits in [custom-data](custom-data/)\n",
    "\n",
    "Let's see which numbers we have (you could also add some numbers you find)"
   ]
  },
  {
   "cell_type": "code",
   "execution_count": null,
   "id": "d97195f0",
   "metadata": {},
   "outputs": [],
   "source": [
    "from IPython.display import Image, display\n",
    "\n",
    "for i in range(13):\n",
    "    display(Image(filename=\"custom-data/digit%02d.png\" % i))"
   ]
  },
  {
   "cell_type": "markdown",
   "id": "c8661cad",
   "metadata": {},
   "source": [
    "# It's time to check how great our model is\n",
    "\n",
    "First, let's import our MNIST class and Client.\n",
    "\n",
    "After that, we will have to create a client and start it."
   ]
  },
  {
   "cell_type": "code",
   "execution_count": 2,
   "id": "e3090303",
   "metadata": {},
   "outputs": [
    {
     "name": "stderr",
     "output_type": "stream",
     "text": [
      "/home/dcanocan/Desktop/Curro/git/curs/training-dataclay-2025/venv-td2025/lib/python3.10/site-packages/pydantic_settings/sources.py:659: UserWarning: directory \"/run/secrets\" does not exist\n",
      "  warnings.warn(f'directory \"{path}\" does not exist')\n",
      "INFO:dataclay.client.api:Starting client runtime\n",
      "INFO:dataclay.client.api:Creating event loop in new thread\n",
      "INFO:dataclay.client.api:Starting client runtime coroutine in event loop\n",
      "INFO:dataclay.client.api:Client runtime started\n"
     ]
    },
    {
     "name": "stdout",
     "output_type": "stream",
     "text": [
      "Starting event loop in new thread\n"
     ]
    },
    {
     "name": "stderr",
     "output_type": "stream",
     "text": [
      "INFO:dataclay.backend.client:SSL not configured\n"
     ]
    }
   ],
   "source": [
    "# ****************************\n",
    "# Solution\n",
    "# ****************************\n",
    "from digitsModel.dc_classes import MNIST\n",
    "\n",
    "from dataclay import Client\n",
    "\n",
    "client = Client(host=\"127.0.0.1\", username=\"testuser\", password=\"s3cret\", dataset=\"testdata\")\n",
    "client.start()\n",
    "# ****************************"
   ]
  },
  {
   "cell_type": "markdown",
   "id": "c8accdb5",
   "metadata": {},
   "source": [
    "## Using the `dry_run` model (bad!)\n",
    "\n",
    "Now we will check the first model.\n",
    "\n",
    "First we have to get the object we had persisted in dataClay with the alias you chose (the one we used was \"FastMNIST\")"
   ]
  },
  {
   "cell_type": "code",
   "execution_count": 3,
   "id": "ea1fa457",
   "metadata": {},
   "outputs": [],
   "source": [
    "# ****************************\n",
    "# Solution\n",
    "# ****************************\n",
    "mnist = MNIST.get_by_alias(\"FastMNIST\")\n",
    "# ****************************"
   ]
  },
  {
   "cell_type": "markdown",
   "id": "2036771d",
   "metadata": {},
   "source": [
    "Let's collect all the handwritten digits into a list. After that we can infere and see what our \"bad\" model guessed."
   ]
  },
  {
   "cell_type": "code",
   "execution_count": 14,
   "id": "1647c6d6",
   "metadata": {},
   "outputs": [
    {
     "data": {
      "text/plain": [
       "[2, 0, 2, 3, 4, 0, 9, 0, 0, 1, 2, 3, 0]"
      ]
     },
     "execution_count": 14,
     "metadata": {},
     "output_type": "execute_result"
    }
   ],
   "source": [
    "from PIL import Image\n",
    "\n",
    "images = [Image.open(\"./custom-data/digit%02d.png\" % i).convert('1') for i in range(13)]\n",
    "\n",
    "# ****************************\n",
    "# Solution\n",
    "# ****************************\n",
    "labels, tensors = mnist.inference(images)\n",
    "labels\n",
    "# ****************************"
   ]
  },
  {
   "cell_type": "markdown",
   "id": "f959e3bc",
   "metadata": {},
   "source": [
    "## Using the full model (better!)\n",
    "\n",
    "Now let's do the same but with the better model."
   ]
  },
  {
   "cell_type": "code",
   "execution_count": 15,
   "id": "00b1973c",
   "metadata": {},
   "outputs": [
    {
     "data": {
      "text/plain": [
       "[1]"
      ]
     },
     "execution_count": 15,
     "metadata": {},
     "output_type": "execute_result"
    }
   ],
   "source": [
    "# ****************************\n",
    "# Solution\n",
    "# ****************************\n",
    "mnist = MNIST.get_by_alias(\"MyTrainedMNIST\")\n",
    "labels, tensors = mnist.inference(images)\n",
    "labels\n",
    "# ****************************\n"
   ]
  },
  {
   "cell_type": "markdown",
   "id": "107dc180",
   "metadata": {},
   "source": [
    "## Refining the full model\n",
    "\n",
    "Maybe the better model did not guess all the digits correctly. Let's train it for 4 more iterations!"
   ]
  },
  {
   "cell_type": "code",
   "execution_count": 7,
   "id": "51b351da",
   "metadata": {},
   "outputs": [
    {
     "name": "stdout",
     "output_type": "stream",
     "text": [
      "Starting epoch 3\n",
      "Train returned loss=0.005074\n",
      "Test returned accuracy=98.95\n",
      "Starting epoch 4\n",
      "Train returned loss=0.003202\n",
      "Test returned accuracy=98.96\n",
      "Starting epoch 5\n",
      "Train returned loss=0.006911\n",
      "Test returned accuracy=99.01\n",
      "Starting epoch 6\n",
      "Train returned loss=0.001550\n",
      "Test returned accuracy=99.08\n"
     ]
    }
   ],
   "source": [
    "# ****************************\n",
    "# Solution\n",
    "# ****************************\n",
    "mnist.run_epochs(4)\n",
    "# ****************************"
   ]
  },
  {
   "cell_type": "markdown",
   "id": "3b83f59d",
   "metadata": {},
   "source": [
    "And now let's check the result."
   ]
  },
  {
   "cell_type": "code",
   "execution_count": 8,
   "id": "9af6b89f",
   "metadata": {},
   "outputs": [
    {
     "data": {
      "text/plain": [
       "[2, 0, 2, 3, 4, 0, 9, 0, 0, 1, 2, 3, 0]"
      ]
     },
     "execution_count": 8,
     "metadata": {},
     "output_type": "execute_result"
    }
   ],
   "source": [
    "# ****************************\n",
    "# Solution\n",
    "# ****************************\n",
    "labels, tensors = mnist.inference(images)\n",
    "labels\n",
    "# ****************************"
   ]
  },
  {
   "cell_type": "code",
   "execution_count": null,
   "id": "cb16b28f",
   "metadata": {},
   "outputs": [],
   "source": []
  }
 ],
 "metadata": {
  "kernelspec": {
   "display_name": "Python 3 (ipykernel)",
   "language": "python",
   "name": "python3"
  },
  "language_info": {
   "codemirror_mode": {
    "name": "ipython",
    "version": 3
   },
   "file_extension": ".py",
   "mimetype": "text/x-python",
   "name": "python",
   "nbconvert_exporter": "python",
   "pygments_lexer": "ipython3",
   "version": "3.10.12"
  }
 },
 "nbformat": 4,
 "nbformat_minor": 5
}
