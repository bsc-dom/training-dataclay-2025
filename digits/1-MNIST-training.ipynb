{
 "cells": [
  {
   "cell_type": "markdown",
   "id": "430b756b",
   "metadata": {},
   "source": [
    "# Model training\n",
    "\n",
    "In order to train our model we will have to:\n",
    "\n",
    "- Import our model."
   ]
  },
  {
   "cell_type": "code",
   "execution_count": null,
   "id": "07cc229f",
   "metadata": {},
   "outputs": [],
   "source": [
    "from digits_model.dc_classes import MNIST"
   ]
  },
  {
   "cell_type": "markdown",
   "id": "63e75a47",
   "metadata": {},
   "source": [
    "- Import, create and start a dataClay Client."
   ]
  },
  {
   "cell_type": "code",
   "execution_count": null,
   "id": "59f8ed6d",
   "metadata": {},
   "outputs": [],
   "source": [
    "from dataclay import Client\n",
    "\n",
    "client = Client(proxy_host=\"127.0.0.1\")\n",
    "client.start()\n"
   ]
  },
  {
   "cell_type": "markdown",
   "id": "a52e8212",
   "metadata": {},
   "source": [
    "# Dry-run train (fast test)\n",
    "\n",
    "In order to train the model:\n",
    "- First we have to create an instance of our class model.\n",
    "- Make our instance persistent with an alias (e.g. \"FastMNIST\")\n",
    "- Prepare the model.\n",
    "- Perform a \"dry-run\" training, which will should be quite fast. Run it for 4-6 epochs.\n",
    "\n",
    "Check the [MNIST](digits_model/dc_classes.py) class to see which methods can be used and what is their purpose."
   ]
  },
  {
   "cell_type": "code",
   "execution_count": null,
   "id": "9b599ca6",
   "metadata": {},
   "outputs": [],
   "source": [
    "mnist_fast = MNIST()\n",
    "\n",
    "mnist_fast. ..."
   ]
  },
  {
   "cell_type": "markdown",
   "id": "9823d232",
   "metadata": {},
   "source": [
    "# Real train\n",
    "\n",
    "We will do the same as before, changing the persistency alias, but training it the _proper_ way. (NOTE: we will be using the alias \"MyTrainedMNIST\" in these examples)\n",
    "\n",
    "Given that this training is much slower, use a smaller number of epochs, e.g. 2 or 3."
   ]
  },
  {
   "cell_type": "code",
   "execution_count": null,
   "id": "f1e0c063",
   "metadata": {},
   "outputs": [],
   "source": [
    "mnist = MNIST()\n",
    "\n",
    "mnist. ..."
   ]
  },
  {
   "cell_type": "code",
   "execution_count": null,
   "id": "03410f35-4608-4c92-ba73-9072b6317218",
   "metadata": {},
   "outputs": [],
   "source": []
  }
 ],
 "metadata": {
  "kernelspec": {
   "display_name": "Python 3 (ipykernel)",
   "language": "python",
   "name": "python3"
  },
  "language_info": {
   "codemirror_mode": {
    "name": "ipython",
    "version": 3
   },
   "file_extension": ".py",
   "mimetype": "text/x-python",
   "name": "python",
   "nbconvert_exporter": "python",
   "pygments_lexer": "ipython3",
   "version": "3.10.12"
  }
 },
 "nbformat": 4,
 "nbformat_minor": 5
}
