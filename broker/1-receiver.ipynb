{
 "cells": [
  {
   "cell_type": "markdown",
   "id": "661b363c",
   "metadata": {},
   "source": [
    "# Broker - MQTT Receiver\n",
    "\n",
    "In this exercise we will be using a dataClay class to receive messages from a MQTT broker.\n",
    "\n",
    "## Receiver\n",
    "\n",
    "We will be using the class MqttStubs (see [mqttsubs.py file](broker_model/mqttsubs.py))."
   ]
  },
  {
   "cell_type": "code",
   "execution_count": null,
   "id": "d97195f0",
   "metadata": {},
   "outputs": [],
   "source": [
    "from broker_model.mqttsubs import MqttSubs\n",
    "\n",
    "from dataclay import Client\n",
    "from dataclay.exceptions import AliasDoesNotExistError"
   ]
  },
  {
   "cell_type": "markdown",
   "id": "73d55ed6",
   "metadata": {},
   "source": [
    "Now let's start the client with the same MqttSubs object."
   ]
  },
  {
   "cell_type": "code",
   "execution_count": null,
   "id": "c4dc9cde",
   "metadata": {},
   "outputs": [],
   "source": [
    "client = Client(proxy_host=\"127.0.0.1\")\n",
    "client.start()\n",
    "\n",
    "try:\n",
    "    mqttsub = MqttSubs.get_by_alias(\"broker\")\n",
    "except AliasDoesNotExistError:\n",
    "    mqttsub = MqttSubs()\n",
    "    mqttsub.make_persistent(alias=\"broker\")"
   ]
  },
  {
   "cell_type": "markdown",
   "id": "85ed9432",
   "metadata": {},
   "source": [
    "And finally check the model to see how you could make this client subscribe to a topic. (NOTE: Let's set the topic to \"tmp\")"
   ]
  },
  {
   "cell_type": "code",
   "execution_count": null,
   "id": "0a29d8fc",
   "metadata": {},
   "outputs": [],
   "source": [
    "mqttsub.set_topic(\"tmp\")\n",
    "mqttsub.subscribe_to_topic(mqttsub.topic)"
   ]
  },
  {
   "cell_type": "markdown",
   "id": "27c1e034",
   "metadata": {},
   "source": [
    "## Let's check which temperatures we are getting\n",
    "\n",
    "You will need to implement the `message_handling` method in the MqttSubs class."
   ]
  },
  {
   "cell_type": "code",
   "execution_count": null,
   "id": "e15b9616-7f7f-49f4-b8a5-e77a63c77e1a",
   "metadata": {},
   "outputs": [],
   "source": [
    "import time\n",
    "\n",
    "temp = mqttsub.get_temp()\n",
    "print(temp)\n",
    "while(True):\n",
    "    new_temp = mqttsub.get_temp()\n",
    "    if new_temp != temp:\n",
    "        temp=new_temp\n",
    "        print(temp)\n",
    "    time.sleep(1)"
   ]
  },
  {
   "cell_type": "code",
   "execution_count": null,
   "id": "f7066dbe-8f1c-42db-9cad-bdebb468afab",
   "metadata": {},
   "outputs": [],
   "source": []
  }
 ],
 "metadata": {
  "kernelspec": {
   "display_name": "Python 3 (ipykernel)",
   "language": "python",
   "name": "python3"
  },
  "language_info": {
   "codemirror_mode": {
    "name": "ipython",
    "version": 3
   },
   "file_extension": ".py",
   "mimetype": "text/x-python",
   "name": "python",
   "nbconvert_exporter": "python",
   "pygments_lexer": "ipython3",
   "version": "3.10.12"
  }
 },
 "nbformat": 4,
 "nbformat_minor": 5
}
