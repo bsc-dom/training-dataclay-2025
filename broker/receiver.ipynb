{
 "cells": [
  {
   "cell_type": "markdown",
   "id": "661b363c",
   "metadata": {},
   "source": [
    "# Broker\n",
    "\n",
    "In this exercise we will be using MQTT to send and receive messages between two (or more) clients.\n",
    "\n",
    "## Check the data model (classes)\n",
    "\n",
    "You can check the class definitions by going into the [brokerModel](brokerModel/) folder.\n",
    "\n",
    "You will find one file:\n",
    "\n",
    " - `mqttsubs.py` which contains the `MqttSubs` class. This class inherits from the dataClay class `MQTTMixin`. \n",
    " \n",
    "Make sure to check both classes in order to understand how everything works\n",
    "\n",
    "## Receiver\n",
    "\n",
    "Let's create the receiver client, which will subscribe to a topic.\n",
    "\n",
    "In order to do so, let's import the \"MqttSubs\" class and \"Client\"\n"
   ]
  },
  {
   "cell_type": "code",
   "execution_count": 1,
   "id": "d97195f0",
   "metadata": {},
   "outputs": [
    {
     "name": "stderr",
     "output_type": "stream",
     "text": [
      "/home/dcanocan/Desktop/Curro/git/curs/training-dataclay-2025/venv-td2025/lib/python3.10/site-packages/pydantic_settings/sources.py:659: UserWarning: directory \"/run/secrets\" does not exist\n",
      "  warnings.warn(f'directory \"{path}\" does not exist')\n"
     ]
    }
   ],
   "source": [
    "from brokerModel.mqttsubs import MqttSubs\n",
    "\n",
    "from dataclay import Client"
   ]
  },
  {
   "cell_type": "markdown",
   "id": "73d55ed6",
   "metadata": {},
   "source": [
    "Now let's start the client and get the persisted mqttsub object (NOTE: the alias we use in the solution is \"receiver\")"
   ]
  },
  {
   "cell_type": "code",
   "execution_count": 2,
   "id": "c4dc9cde",
   "metadata": {},
   "outputs": [
    {
     "name": "stderr",
     "output_type": "stream",
     "text": [
      "INFO:dataclay.client.api:Starting client runtime\n",
      "INFO:dataclay.client.api:Creating event loop in new thread\n",
      "INFO:dataclay.client.api:Starting client runtime coroutine in event loop\n",
      "INFO:dataclay.client.api:Client runtime started\n",
      "INFO:dataclay.backend.client:SSL not configured\n",
      "INFO:dataclay.backend.client:SSL not configured\n"
     ]
    },
    {
     "name": "stdout",
     "output_type": "stream",
     "text": [
      "Starting event loop in new thread\n"
     ]
    }
   ],
   "source": [
    "client = ...\n",
    "\n",
    "try:\n",
    "    mqttsub = MqttSubs.get_by_alias(\"receiver\")\n",
    "except Exception:\n",
    "    mqttsub = MqttSubs()\n",
    "    ..."
   ]
  },
  {
   "cell_type": "markdown",
   "id": "85ed9432",
   "metadata": {},
   "source": [
    "And finally check the model to see how you could make this client subscribe to a topic. (NOTE: Let's set the topic to \"tmp\")"
   ]
  },
  {
   "cell_type": "code",
   "execution_count": 3,
   "id": "0a29d8fc",
   "metadata": {},
   "outputs": [],
   "source": [
    "..."
   ]
  },
  {
   "cell_type": "markdown",
   "id": "27c1e034",
   "metadata": {},
   "source": [
    "## Let's check which temperatures we are getting"
   ]
  },
  {
   "cell_type": "code",
   "execution_count": null,
   "id": "e15b9616-7f7f-49f4-b8a5-e77a63c77e1a",
   "metadata": {},
   "outputs": [
    {
     "name": "stdout",
     "output_type": "stream",
     "text": [
      "NO DATA\n"
     ]
    }
   ],
   "source": [
    "import time\n",
    "\n",
    "temp = mqttsub.get_temp()\n",
    "print(temp)\n",
    "while(True):\n",
    "    new_temp = mqttsub.get_temp()\n",
    "    if new_temp != temp:\n",
    "        temp=new_temp\n",
    "        print(temp)\n",
    "    time.sleep(1)"
   ]
  },
  {
   "cell_type": "code",
   "execution_count": null,
   "id": "f7066dbe-8f1c-42db-9cad-bdebb468afab",
   "metadata": {},
   "outputs": [],
   "source": []
  }
 ],
 "metadata": {
  "kernelspec": {
   "display_name": "Python 3 (ipykernel)",
   "language": "python",
   "name": "python3"
  },
  "language_info": {
   "codemirror_mode": {
    "name": "ipython",
    "version": 3
   },
   "file_extension": ".py",
   "mimetype": "text/x-python",
   "name": "python",
   "nbconvert_exporter": "python",
   "pygments_lexer": "ipython3",
   "version": "3.10.12"
  }
 },
 "nbformat": 4,
 "nbformat_minor": 5
}
