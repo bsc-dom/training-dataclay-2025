{
 "cells": [
  {
   "cell_type": "markdown",
   "id": "661b363c",
   "metadata": {},
   "source": [
    "# Broker - MQTT Sender\n",
    "\n",
    "We will be sending messages with the `paho-mqtt` library, directly"
   ]
  },
  {
   "cell_type": "markdown",
   "id": "73d55ed6",
   "metadata": {},
   "source": [
    "Now let's start the client and get the persisted mqttsub object. (NOTE: the alias we use in the solution is \"sender\")"
   ]
  },
  {
   "cell_type": "code",
   "execution_count": null,
   "id": "c4dc9cde",
   "metadata": {},
   "outputs": [],
   "source": [
    "import paho.mqtt.client as mqtt\n",
    "import random\n",
    "import time\n",
    "\n",
    "# MQTT Broker details\n",
    "BROKER = \"127.0.0.1\"  # mqtt5 container in docker-compose.yml, exposing port\n",
    "PORT = 1883  # default port\n",
    "TOPIC = \"tmp\"  # we will be using this topic\n",
    "\n",
    "# Create MQTT client\n",
    "client = mqtt.Client()\n",
    "# Connect to the broker\n",
    "client.connect(BROKER, PORT, 60)"
   ]
  },
  {
   "cell_type": "markdown",
   "id": "85ed9432",
   "metadata": {},
   "source": [
    "Generate a random temperature and send it:"
   ]
  },
  {
   "cell_type": "code",
   "execution_count": null,
   "id": "0a29d8fc",
   "metadata": {},
   "outputs": [],
   "source": [
    "random_value = random.uniform(-10.0, 30.0)  # Simulating a temperature reading\n",
    "client.publish(TOPIC, f\"{random_value:.2f}\")\n",
    "print(\"Sent temperature value %.2f to the MQTT broker\" % random_value)"
   ]
  },
  {
   "cell_type": "code",
   "execution_count": null,
   "id": "a60c1561-02e1-4e47-8d36-1520ec05ec46",
   "metadata": {},
   "outputs": [],
   "source": []
  }
 ],
 "metadata": {
  "kernelspec": {
   "display_name": "Python 3 (ipykernel)",
   "language": "python",
   "name": "python3"
  },
  "language_info": {
   "codemirror_mode": {
    "name": "ipython",
    "version": 3
   },
   "file_extension": ".py",
   "mimetype": "text/x-python",
   "name": "python",
   "nbconvert_exporter": "python",
   "pygments_lexer": "ipython3",
   "version": "3.10.12"
  }
 },
 "nbformat": 4,
 "nbformat_minor": 5
}
